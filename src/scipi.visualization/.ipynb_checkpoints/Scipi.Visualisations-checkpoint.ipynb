{
 "cells": [
  {
   "cell_type": "code",
   "execution_count": 1,
   "metadata": {},
   "outputs": [
    {
     "data": {
      "text/html": [
       "        <script type=\"text/javascript\">\n",
       "        window.PlotlyConfig = {MathJaxConfig: 'local'};\n",
       "        if (window.MathJax) {MathJax.Hub.Config({SVG: {font: \"STIX-Web\"}});}\n",
       "        if (typeof require !== 'undefined') {\n",
       "        require.undef(\"plotly\");\n",
       "        requirejs.config({\n",
       "            paths: {\n",
       "                'plotly': ['https://cdn.plot.ly/plotly-latest.min']\n",
       "            }\n",
       "        });\n",
       "        require(['plotly'], function(Plotly) {\n",
       "            window._Plotly = Plotly;\n",
       "        });\n",
       "        }\n",
       "        </script>\n",
       "        "
      ]
     },
     "metadata": {},
     "output_type": "display_data"
    }
   ],
   "source": [
    "# importing libraries \n",
    "import pandas as pd\n",
    "from visualisations import ScipiVisual "
   ]
  },
  {
   "cell_type": "code",
   "execution_count": 2,
   "metadata": {},
   "outputs": [],
   "source": [
    "# initialize a new instance for ScipiVisual & set environment \n",
    "cassandra_points = [\"localhost\"] \n",
    "visual = ScipiVisual(cassandra_points=cassandra_points)"
   ]
  },
  {
   "cell_type": "markdown",
   "metadata": {},
   "source": [
    "## Dense Communities in Publications Network"
   ]
  },
  {
   "cell_type": "code",
   "execution_count": 3,
   "metadata": {
    "scrolled": false
   },
   "outputs": [],
   "source": [
    "# visual.plot_bubble_topics()"
   ]
  },
  {
   "cell_type": "markdown",
   "metadata": {},
   "source": [
    "## Dynamics in Publication Networks "
   ]
  },
  {
   "cell_type": "code",
   "execution_count": 4,
   "metadata": {
    "scrolled": false
   },
   "outputs": [
    {
     "data": {
      "application/vnd.plotly.v1+json": {
       "config": {
        "linkText": "Export to plot.ly",
        "plotlyServerURL": "https://plot.ly",
        "responsive": true,
        "showLink": false
       },
       "data": [
        {
         "cells": {
          "align": [
           "left",
           "left",
           "left",
           "left",
           "left"
          ],
          "fill": {
           "color": "#F5F8FF"
          },
          "values": [
           [
            1,
            2,
            3,
            4,
            5,
            6,
            7,
            8,
            9,
            10,
            11,
            12,
            13,
            14,
            15,
            16,
            ">16"
           ],
           [
            10306,
            10021,
            8058,
            5922,
            3932,
            2670,
            1723,
            1168,
            729,
            466,
            288,
            180,
            107,
            80,
            77,
            44,
            208
           ],
           [
            10306,
            20042,
            24174,
            23688,
            19660,
            16020,
            12061,
            9344,
            6561,
            4660,
            3168,
            2160,
            1391,
            1120,
            1155,
            704,
            5963
           ],
           [
            22.41,
            21.79,
            17.53,
            12.88,
            8.55,
            5.81,
            3.75,
            2.54,
            1.59,
            1.01,
            0.63,
            0.39,
            0.23,
            0.17,
            0.17,
            0.1,
            0.45
           ],
           [
            22.4,
            44.2,
            61.7,
            74.6,
            83.2,
            89,
            92.7,
            95.3,
            96.9,
            97.9,
            98.5,
            98.9,
            99.1,
            99.3,
            99.5,
            99.6,
            100
           ]
          ]
         },
         "header": {
          "align": [
           "left",
           "left",
           "left",
           "left",
           "left"
          ],
          "fill": {
           "color": "#C2D4FF"
          },
          "values": [
           "No. authors (unit)",
           "No. of publications",
           "No. of authors",
           "% of total publications",
           "Cum.(%) of total publications"
          ]
         },
         "type": "table",
         "uid": "c16eefab-12c2-4a00-b573-37655bf3cec3"
        }
       ],
       "layout": {}
      },
      "text/html": [
       "<div>\n",
       "        \n",
       "        \n",
       "            <div id=\"dcbb0624-1ce4-4630-84f5-0f8f835dc341\" class=\"plotly-graph-div\" style=\"height:525px; width:100%;\"></div>\n",
       "            <script type=\"text/javascript\">\n",
       "                require([\"plotly\"], function(Plotly) {\n",
       "                    window.PLOTLYENV=window.PLOTLYENV || {};\n",
       "                    window.PLOTLYENV.BASE_URL='https://plot.ly';\n",
       "                    \n",
       "                if (document.getElementById(\"dcbb0624-1ce4-4630-84f5-0f8f835dc341\")) {\n",
       "                    Plotly.newPlot(\n",
       "                        'dcbb0624-1ce4-4630-84f5-0f8f835dc341',\n",
       "                        [{\"cells\": {\"align\": [\"left\", \"left\", \"left\", \"left\", \"left\"], \"fill\": {\"color\": \"#F5F8FF\"}, \"values\": [[1, 2, 3, 4, 5, 6, 7, 8, 9, 10, 11, 12, 13, 14, 15, 16, \">16\"], [10306, 10021, 8058, 5922, 3932, 2670, 1723, 1168, 729, 466, 288, 180, 107, 80, 77, 44, 208], [10306, 20042, 24174, 23688, 19660, 16020, 12061, 9344, 6561, 4660, 3168, 2160, 1391, 1120, 1155, 704, 5963], [22.41, 21.79, 17.53, 12.88, 8.55, 5.81, 3.75, 2.54, 1.59, 1.01, 0.63, 0.39, 0.23, 0.17, 0.17, 0.1, 0.45], [22.4, 44.2, 61.7, 74.6, 83.2, 89.0, 92.7, 95.3, 96.9, 97.9, 98.5, 98.9, 99.1, 99.3, 99.5, 99.6, 100.0]]}, \"header\": {\"align\": [\"left\", \"left\", \"left\", \"left\", \"left\"], \"fill\": {\"color\": \"#C2D4FF\"}, \"values\": [\"No. authors (unit)\", \"No. of publications\", \"No. of authors\", \"% of total publications\", \"Cum.(%) of total publications\"]}, \"type\": \"table\", \"uid\": \"1b72297c-7775-4cb8-952c-0adc58b393cb\"}],\n",
       "                        {},\n",
       "                        {\"showLink\": false, \"linkText\": \"Export to plot.ly\", \"plotlyServerURL\": \"https://plot.ly\", \"responsive\": true}\n",
       "                    ).then(function(){\n",
       "                            \n",
       "var gd = document.getElementById('dcbb0624-1ce4-4630-84f5-0f8f835dc341');\n",
       "var x = new MutationObserver(function (mutations, observer) {{\n",
       "        var display = window.getComputedStyle(gd).display;\n",
       "        if (!display || display === 'none') {{\n",
       "            console.log([gd, 'removed!']);\n",
       "            Plotly.purge(gd);\n",
       "            observer.disconnect();\n",
       "        }}\n",
       "}});\n",
       "\n",
       "// Listen for the removal of the full notebook cells\n",
       "var notebookContainer = gd.closest('#notebook-container');\n",
       "if (notebookContainer) {{\n",
       "    x.observe(notebookContainer, {childList: true});\n",
       "}}\n",
       "\n",
       "// Listen for the clearing of the current output cell\n",
       "var outputEl = gd.closest('.output');\n",
       "if (outputEl) {{\n",
       "    x.observe(outputEl, {childList: true});\n",
       "}}\n",
       "\n",
       "                        })\n",
       "                };\n",
       "                });\n",
       "            </script>\n",
       "        </div>"
      ]
     },
     "metadata": {},
     "output_type": "display_data"
    }
   ],
   "source": [
    "# plot authorship patterns \n",
    "visual.plot_authorship_ptrn(20)"
   ]
  },
  {
   "cell_type": "code",
   "execution_count": 5,
   "metadata": {
    "scrolled": false
   },
   "outputs": [
    {
     "data": {
      "application/vnd.plotly.v1+json": {
       "config": {
        "linkText": "Export to plot.ly",
        "plotlyServerURL": "https://plot.ly",
        "responsive": true,
        "showLink": false
       },
       "data": [
        {
         "cells": {
          "align": [
           "left",
           "left",
           "left",
           "left",
           "left"
          ],
          "fill": {
           "color": "#F5F8FF"
          },
          "values": [
           [
            "1999",
            "2000",
            "2001",
            "2002",
            "2003",
            "2004",
            "2005",
            "2006",
            "2007",
            "2008",
            "2009",
            "2010",
            "2011",
            "2012",
            "2013",
            "2014",
            "2015",
            "2016",
            "2017",
            "2018"
           ],
           [
            189,
            204,
            206,
            217,
            224,
            234,
            252,
            243,
            294,
            334,
            404,
            391,
            362,
            355,
            356,
            397,
            337,
            364,
            121,
            0
           ],
           [
            666,
            735,
            717,
            764,
            879,
            937,
            1060,
            1115,
            1301,
            1459,
            1609,
            1851,
            1832,
            1810,
            2052,
            2179,
            2097,
            2048,
            918,
            2
           ],
           [
            855,
            939,
            923,
            981,
            1103,
            1171,
            1312,
            1358,
            1595,
            1793,
            2013,
            2242,
            2194,
            2165,
            2408,
            2576,
            2434,
            2412,
            1039,
            2
           ],
           [
            22.11,
            21.73,
            22.32,
            22.12,
            20.31,
            19.98,
            19.21,
            17.89,
            18.43,
            18.63,
            20.07,
            17.44,
            16.5,
            16.4,
            14.78,
            15.41,
            13.85,
            15.09,
            11.65,
            0
           ],
           [
            77.89,
            78.27,
            77.68,
            77.88,
            79.69,
            80.02,
            80.79,
            82.11,
            81.57,
            81.37,
            79.93,
            82.56,
            83.5,
            83.6,
            85.22,
            84.59,
            86.15,
            84.91,
            88.35,
            100
           ]
          ]
         },
         "header": {
          "align": [
           "left",
           "left",
           "left",
           "left",
           "left"
          ],
          "fill": {
           "color": "#C2D4FF"
          },
          "values": [
           "year",
           "Single authored",
           "Joint authored",
           "Total Publications",
           "% of Single authored publications",
           "% of Joint authored publications"
          ]
         },
         "type": "table",
         "uid": "1a4e7219-cdb1-4e99-a224-8921f7272414"
        }
       ],
       "layout": {}
      },
      "text/html": [
       "<div>\n",
       "        \n",
       "        \n",
       "            <div id=\"e329baef-a923-4551-a299-120062d3162f\" class=\"plotly-graph-div\" style=\"height:525px; width:100%;\"></div>\n",
       "            <script type=\"text/javascript\">\n",
       "                require([\"plotly\"], function(Plotly) {\n",
       "                    window.PLOTLYENV=window.PLOTLYENV || {};\n",
       "                    window.PLOTLYENV.BASE_URL='https://plot.ly';\n",
       "                    \n",
       "                if (document.getElementById(\"e329baef-a923-4551-a299-120062d3162f\")) {\n",
       "                    Plotly.newPlot(\n",
       "                        'e329baef-a923-4551-a299-120062d3162f',\n",
       "                        [{\"cells\": {\"align\": [\"left\", \"left\", \"left\", \"left\", \"left\"], \"fill\": {\"color\": \"#F5F8FF\"}, \"values\": [[\"1999\", \"2000\", \"2001\", \"2002\", \"2003\", \"2004\", \"2005\", \"2006\", \"2007\", \"2008\", \"2009\", \"2010\", \"2011\", \"2012\", \"2013\", \"2014\", \"2015\", \"2016\", \"2017\", \"2018\"], [189, 204, 206, 217, 224, 234, 252, 243, 294, 334, 404, 391, 362, 355, 356, 397, 337, 364, 121, 0], [666, 735, 717, 764, 879, 937, 1060, 1115, 1301, 1459, 1609, 1851, 1832, 1810, 2052, 2179, 2097, 2048, 918, 2], [855, 939, 923, 981, 1103, 1171, 1312, 1358, 1595, 1793, 2013, 2242, 2194, 2165, 2408, 2576, 2434, 2412, 1039, 2], [22.11, 21.73, 22.32, 22.12, 20.31, 19.98, 19.21, 17.89, 18.43, 18.63, 20.07, 17.44, 16.5, 16.4, 14.78, 15.41, 13.85, 15.09, 11.65, 0.0], [77.89, 78.27, 77.68, 77.88, 79.69, 80.02, 80.79, 82.11, 81.57, 81.37, 79.93, 82.56, 83.5, 83.6, 85.22, 84.59, 86.15, 84.91, 88.35, 100.0]]}, \"header\": {\"align\": [\"left\", \"left\", \"left\", \"left\", \"left\"], \"fill\": {\"color\": \"#C2D4FF\"}, \"values\": [\"year\", \"Single authored\", \"Joint authored\", \"Total Publications\", \"% of Single authored publications\", \"% of Joint authored publications\"]}, \"type\": \"table\", \"uid\": \"e940ddb8-140a-4e22-9c89-cf549cdc5428\"}],\n",
       "                        {},\n",
       "                        {\"showLink\": false, \"linkText\": \"Export to plot.ly\", \"plotlyServerURL\": \"https://plot.ly\", \"responsive\": true}\n",
       "                    ).then(function(){\n",
       "                            \n",
       "var gd = document.getElementById('e329baef-a923-4551-a299-120062d3162f');\n",
       "var x = new MutationObserver(function (mutations, observer) {{\n",
       "        var display = window.getComputedStyle(gd).display;\n",
       "        if (!display || display === 'none') {{\n",
       "            console.log([gd, 'removed!']);\n",
       "            Plotly.purge(gd);\n",
       "            observer.disconnect();\n",
       "        }}\n",
       "}});\n",
       "\n",
       "// Listen for the removal of the full notebook cells\n",
       "var notebookContainer = gd.closest('#notebook-container');\n",
       "if (notebookContainer) {{\n",
       "    x.observe(notebookContainer, {childList: true});\n",
       "}}\n",
       "\n",
       "// Listen for the clearing of the current output cell\n",
       "var outputEl = gd.closest('.output');\n",
       "if (outputEl) {{\n",
       "    x.observe(outputEl, {childList: true});\n",
       "}}\n",
       "\n",
       "                        })\n",
       "                };\n",
       "                });\n",
       "            </script>\n",
       "        </div>"
      ]
     },
     "metadata": {},
     "output_type": "display_data"
    },
    {
     "data": {
      "application/vnd.plotly.v1+json": {
       "config": {
        "linkText": "Export to plot.ly",
        "plotlyServerURL": "https://plot.ly",
        "responsive": true,
        "showLink": false
       },
       "data": [
        {
         "line": {
          "color": "rgba(255, 153, 51, 1.0)",
          "dash": "solid",
          "shape": "linear",
          "width": 1.3
         },
         "mode": "lines",
         "name": "Single authored",
         "text": "",
         "type": "scatter",
         "uid": "003caff3-1b1c-4c54-a124-a13201057604",
         "x": [
          "1999",
          "2000",
          "2001",
          "2002",
          "2003",
          "2004",
          "2005",
          "2006",
          "2007",
          "2008",
          "2009",
          "2010",
          "2011",
          "2012",
          "2013",
          "2014",
          "2015",
          "2016",
          "2017",
          "2018"
         ],
         "y": [
          189,
          204,
          206,
          217,
          224,
          234,
          252,
          243,
          294,
          334,
          404,
          391,
          362,
          355,
          356,
          397,
          337,
          364,
          121,
          0
         ]
        },
        {
         "line": {
          "color": "rgba(55, 128, 191, 1.0)",
          "dash": "solid",
          "shape": "linear",
          "width": 1.3
         },
         "mode": "lines",
         "name": "Joint authored",
         "text": "",
         "type": "scatter",
         "uid": "b712f32a-ddb4-41c7-a7e6-7eb2c167587f",
         "x": [
          "1999",
          "2000",
          "2001",
          "2002",
          "2003",
          "2004",
          "2005",
          "2006",
          "2007",
          "2008",
          "2009",
          "2010",
          "2011",
          "2012",
          "2013",
          "2014",
          "2015",
          "2016",
          "2017",
          "2018"
         ],
         "y": [
          666,
          735,
          717,
          764,
          879,
          937,
          1060,
          1115,
          1301,
          1459,
          1609,
          1851,
          1832,
          1810,
          2052,
          2179,
          2097,
          2048,
          918,
          2
         ]
        }
       ],
       "layout": {
        "legend": {
         "bgcolor": "#F5F6F9",
         "font": {
          "color": "#4D5663"
         }
        },
        "paper_bgcolor": "#F5F6F9",
        "plot_bgcolor": "#F5F6F9",
        "title": {
         "font": {
          "color": "#4D5663"
         },
         "text": "Single Authored vs co-authored publications from 1999 to 2018."
        },
        "xaxis": {
         "gridcolor": "#E1E5ED",
         "showgrid": true,
         "tickfont": {
          "color": "#4D5663"
         },
         "title": {
          "font": {
           "color": "#4D5663"
          },
          "text": "Years"
         },
         "zerolinecolor": "#E1E5ED"
        },
        "yaxis": {
         "gridcolor": "#E1E5ED",
         "showgrid": true,
         "tickfont": {
          "color": "#4D5663"
         },
         "title": {
          "font": {
           "color": "#4D5663"
          },
          "text": "Total Publications"
         },
         "zerolinecolor": "#E1E5ED"
        }
       }
      },
      "text/html": [
       "<div>\n",
       "        \n",
       "        \n",
       "            <div id=\"caffb7be-6967-4574-92fe-a1873e9c78d8\" class=\"plotly-graph-div\" style=\"height:525px; width:100%;\"></div>\n",
       "            <script type=\"text/javascript\">\n",
       "                require([\"plotly\"], function(Plotly) {\n",
       "                    window.PLOTLYENV=window.PLOTLYENV || {};\n",
       "                    window.PLOTLYENV.BASE_URL='https://plot.ly';\n",
       "                    \n",
       "                if (document.getElementById(\"caffb7be-6967-4574-92fe-a1873e9c78d8\")) {\n",
       "                    Plotly.newPlot(\n",
       "                        'caffb7be-6967-4574-92fe-a1873e9c78d8',\n",
       "                        [{\"line\": {\"color\": \"rgba(255, 153, 51, 1.0)\", \"dash\": \"solid\", \"shape\": \"linear\", \"width\": 1.3}, \"mode\": \"lines\", \"name\": \"Single authored\", \"text\": \"\", \"type\": \"scatter\", \"uid\": \"678227f6-19f5-43c1-9daa-0489ddaf941a\", \"x\": [\"1999\", \"2000\", \"2001\", \"2002\", \"2003\", \"2004\", \"2005\", \"2006\", \"2007\", \"2008\", \"2009\", \"2010\", \"2011\", \"2012\", \"2013\", \"2014\", \"2015\", \"2016\", \"2017\", \"2018\"], \"y\": [189, 204, 206, 217, 224, 234, 252, 243, 294, 334, 404, 391, 362, 355, 356, 397, 337, 364, 121, 0]}, {\"line\": {\"color\": \"rgba(55, 128, 191, 1.0)\", \"dash\": \"solid\", \"shape\": \"linear\", \"width\": 1.3}, \"mode\": \"lines\", \"name\": \"Joint authored\", \"text\": \"\", \"type\": \"scatter\", \"uid\": \"ac48b618-d3d8-48cb-995d-f107ac28f1d5\", \"x\": [\"1999\", \"2000\", \"2001\", \"2002\", \"2003\", \"2004\", \"2005\", \"2006\", \"2007\", \"2008\", \"2009\", \"2010\", \"2011\", \"2012\", \"2013\", \"2014\", \"2015\", \"2016\", \"2017\", \"2018\"], \"y\": [666, 735, 717, 764, 879, 937, 1060, 1115, 1301, 1459, 1609, 1851, 1832, 1810, 2052, 2179, 2097, 2048, 918, 2]}],\n",
       "                        {\"legend\": {\"bgcolor\": \"#F5F6F9\", \"font\": {\"color\": \"#4D5663\"}}, \"paper_bgcolor\": \"#F5F6F9\", \"plot_bgcolor\": \"#F5F6F9\", \"title\": {\"font\": {\"color\": \"#4D5663\"}, \"text\": \"Single Authored vs co-authored publications from 1999 to 2018.\"}, \"xaxis\": {\"gridcolor\": \"#E1E5ED\", \"showgrid\": true, \"tickfont\": {\"color\": \"#4D5663\"}, \"title\": {\"font\": {\"color\": \"#4D5663\"}, \"text\": \"Years\"}, \"zerolinecolor\": \"#E1E5ED\"}, \"yaxis\": {\"gridcolor\": \"#E1E5ED\", \"showgrid\": true, \"tickfont\": {\"color\": \"#4D5663\"}, \"title\": {\"font\": {\"color\": \"#4D5663\"}, \"text\": \"Total Publications\"}, \"zerolinecolor\": \"#E1E5ED\"}},\n",
       "                        {\"showLink\": false, \"linkText\": \"Export to plot.ly\", \"plotlyServerURL\": \"https://plot.ly\", \"responsive\": true}\n",
       "                    ).then(function(){\n",
       "                            \n",
       "var gd = document.getElementById('caffb7be-6967-4574-92fe-a1873e9c78d8');\n",
       "var x = new MutationObserver(function (mutations, observer) {{\n",
       "        var display = window.getComputedStyle(gd).display;\n",
       "        if (!display || display === 'none') {{\n",
       "            console.log([gd, 'removed!']);\n",
       "            Plotly.purge(gd);\n",
       "            observer.disconnect();\n",
       "        }}\n",
       "}});\n",
       "\n",
       "// Listen for the removal of the full notebook cells\n",
       "var notebookContainer = gd.closest('#notebook-container');\n",
       "if (notebookContainer) {{\n",
       "    x.observe(notebookContainer, {childList: true});\n",
       "}}\n",
       "\n",
       "// Listen for the clearing of the current output cell\n",
       "var outputEl = gd.closest('.output');\n",
       "if (outputEl) {{\n",
       "    x.observe(outputEl, {childList: true});\n",
       "}}\n",
       "\n",
       "                        })\n",
       "                };\n",
       "                });\n",
       "            </script>\n",
       "        </div>"
      ]
     },
     "metadata": {},
     "output_type": "display_data"
    },
    {
     "data": {
      "application/vnd.plotly.v1+json": {
       "config": {
        "linkText": "Export to plot.ly",
        "plotlyServerURL": "https://plot.ly",
        "responsive": true,
        "showLink": false
       },
       "data": [
        {
         "line": {
          "color": "rgba(255, 153, 51, 1.0)",
          "dash": "solid",
          "shape": "linear",
          "width": 1.3
         },
         "mode": "lines",
         "name": "% of Single authored publications",
         "text": "",
         "type": "scatter",
         "uid": "1d3d71ca-72ff-446f-a261-83744e78de2f",
         "x": [
          "1999",
          "2000",
          "2001",
          "2002",
          "2003",
          "2004",
          "2005",
          "2006",
          "2007",
          "2008",
          "2009",
          "2010",
          "2011",
          "2012",
          "2013",
          "2014",
          "2015",
          "2016",
          "2017",
          "2018"
         ],
         "y": [
          22.11,
          21.73,
          22.32,
          22.12,
          20.31,
          19.98,
          19.21,
          17.89,
          18.43,
          18.63,
          20.07,
          17.44,
          16.5,
          16.4,
          14.78,
          15.41,
          13.85,
          15.09,
          11.65,
          0
         ]
        },
        {
         "line": {
          "color": "rgba(55, 128, 191, 1.0)",
          "dash": "solid",
          "shape": "linear",
          "width": 1.3
         },
         "mode": "lines",
         "name": "% of Joint authored publications",
         "text": "",
         "type": "scatter",
         "uid": "710ed8d7-ff6e-4a56-bfd2-e73e91af7c10",
         "x": [
          "1999",
          "2000",
          "2001",
          "2002",
          "2003",
          "2004",
          "2005",
          "2006",
          "2007",
          "2008",
          "2009",
          "2010",
          "2011",
          "2012",
          "2013",
          "2014",
          "2015",
          "2016",
          "2017",
          "2018"
         ],
         "y": [
          77.89,
          78.27,
          77.68,
          77.88,
          79.69,
          80.02,
          80.79,
          82.11,
          81.57,
          81.37,
          79.93,
          82.56,
          83.5,
          83.6,
          85.22,
          84.59,
          86.15,
          84.91,
          88.35,
          100
         ]
        }
       ],
       "layout": {
        "legend": {
         "bgcolor": "#F5F6F9",
         "font": {
          "color": "#4D5663"
         }
        },
        "paper_bgcolor": "#F5F6F9",
        "plot_bgcolor": "#F5F6F9",
        "title": {
         "font": {
          "color": "#4D5663"
         },
         "text": "Single Authored vs co-authored publications from 1999 to 2018."
        },
        "xaxis": {
         "gridcolor": "#E1E5ED",
         "showgrid": true,
         "tickfont": {
          "color": "#4D5663"
         },
         "title": {
          "font": {
           "color": "#4D5663"
          },
          "text": "Years"
         },
         "zerolinecolor": "#E1E5ED"
        },
        "yaxis": {
         "gridcolor": "#E1E5ED",
         "showgrid": true,
         "tickfont": {
          "color": "#4D5663"
         },
         "title": {
          "font": {
           "color": "#4D5663"
          },
          "text": "(%) Publications"
         },
         "zerolinecolor": "#E1E5ED"
        }
       }
      },
      "text/html": [
       "<div>\n",
       "        \n",
       "        \n",
       "            <div id=\"aea41dd0-d32d-455a-a011-280316fd65a2\" class=\"plotly-graph-div\" style=\"height:525px; width:100%;\"></div>\n",
       "            <script type=\"text/javascript\">\n",
       "                require([\"plotly\"], function(Plotly) {\n",
       "                    window.PLOTLYENV=window.PLOTLYENV || {};\n",
       "                    window.PLOTLYENV.BASE_URL='https://plot.ly';\n",
       "                    \n",
       "                if (document.getElementById(\"aea41dd0-d32d-455a-a011-280316fd65a2\")) {\n",
       "                    Plotly.newPlot(\n",
       "                        'aea41dd0-d32d-455a-a011-280316fd65a2',\n",
       "                        [{\"line\": {\"color\": \"rgba(255, 153, 51, 1.0)\", \"dash\": \"solid\", \"shape\": \"linear\", \"width\": 1.3}, \"mode\": \"lines\", \"name\": \"% of Single authored publications\", \"text\": \"\", \"type\": \"scatter\", \"uid\": \"96b23aa8-49bd-4518-9122-4b185f840c71\", \"x\": [\"1999\", \"2000\", \"2001\", \"2002\", \"2003\", \"2004\", \"2005\", \"2006\", \"2007\", \"2008\", \"2009\", \"2010\", \"2011\", \"2012\", \"2013\", \"2014\", \"2015\", \"2016\", \"2017\", \"2018\"], \"y\": [22.11, 21.73, 22.32, 22.12, 20.31, 19.98, 19.21, 17.89, 18.43, 18.63, 20.07, 17.44, 16.5, 16.4, 14.78, 15.41, 13.85, 15.09, 11.65, 0.0]}, {\"line\": {\"color\": \"rgba(55, 128, 191, 1.0)\", \"dash\": \"solid\", \"shape\": \"linear\", \"width\": 1.3}, \"mode\": \"lines\", \"name\": \"% of Joint authored publications\", \"text\": \"\", \"type\": \"scatter\", \"uid\": \"95ce2078-e3c8-4b80-b0b6-7e7d322849a6\", \"x\": [\"1999\", \"2000\", \"2001\", \"2002\", \"2003\", \"2004\", \"2005\", \"2006\", \"2007\", \"2008\", \"2009\", \"2010\", \"2011\", \"2012\", \"2013\", \"2014\", \"2015\", \"2016\", \"2017\", \"2018\"], \"y\": [77.89, 78.27, 77.68, 77.88, 79.69, 80.02, 80.79, 82.11, 81.57, 81.37, 79.93, 82.56, 83.5, 83.6, 85.22, 84.59, 86.15, 84.91, 88.35, 100.0]}],\n",
       "                        {\"legend\": {\"bgcolor\": \"#F5F6F9\", \"font\": {\"color\": \"#4D5663\"}}, \"paper_bgcolor\": \"#F5F6F9\", \"plot_bgcolor\": \"#F5F6F9\", \"title\": {\"font\": {\"color\": \"#4D5663\"}, \"text\": \"Single Authored vs co-authored publications from 1999 to 2018.\"}, \"xaxis\": {\"gridcolor\": \"#E1E5ED\", \"showgrid\": true, \"tickfont\": {\"color\": \"#4D5663\"}, \"title\": {\"font\": {\"color\": \"#4D5663\"}, \"text\": \"Years\"}, \"zerolinecolor\": \"#E1E5ED\"}, \"yaxis\": {\"gridcolor\": \"#E1E5ED\", \"showgrid\": true, \"tickfont\": {\"color\": \"#4D5663\"}, \"title\": {\"font\": {\"color\": \"#4D5663\"}, \"text\": \"(%) Publications\"}, \"zerolinecolor\": \"#E1E5ED\"}},\n",
       "                        {\"showLink\": false, \"linkText\": \"Export to plot.ly\", \"plotlyServerURL\": \"https://plot.ly\", \"responsive\": true}\n",
       "                    ).then(function(){\n",
       "                            \n",
       "var gd = document.getElementById('aea41dd0-d32d-455a-a011-280316fd65a2');\n",
       "var x = new MutationObserver(function (mutations, observer) {{\n",
       "        var display = window.getComputedStyle(gd).display;\n",
       "        if (!display || display === 'none') {{\n",
       "            console.log([gd, 'removed!']);\n",
       "            Plotly.purge(gd);\n",
       "            observer.disconnect();\n",
       "        }}\n",
       "}});\n",
       "\n",
       "// Listen for the removal of the full notebook cells\n",
       "var notebookContainer = gd.closest('#notebook-container');\n",
       "if (notebookContainer) {{\n",
       "    x.observe(notebookContainer, {childList: true});\n",
       "}}\n",
       "\n",
       "// Listen for the clearing of the current output cell\n",
       "var outputEl = gd.closest('.output');\n",
       "if (outputEl) {{\n",
       "    x.observe(outputEl, {childList: true});\n",
       "}}\n",
       "\n",
       "                        })\n",
       "                };\n",
       "                });\n",
       "            </script>\n",
       "        </div>"
      ]
     },
     "metadata": {},
     "output_type": "display_data"
    }
   ],
   "source": [
    "# plot year-wise distribution single author vs co-authored \n",
    "n_years = 20\n",
    "visual.plot_yr_dist_pub(years=n_years)"
   ]
  }
 ],
 "metadata": {
  "kernelspec": {
   "display_name": "Python [conda env:ics5114] *",
   "language": "python",
   "name": "conda-env-ics5114-py"
  },
  "language_info": {
   "codemirror_mode": {
    "name": "ipython",
    "version": 3
   },
   "file_extension": ".py",
   "mimetype": "text/x-python",
   "name": "python",
   "nbconvert_exporter": "python",
   "pygments_lexer": "ipython3",
   "version": "3.7.3"
  }
 },
 "nbformat": 4,
 "nbformat_minor": 2
}
