{
 "cells": [
  {
   "cell_type": "markdown",
   "metadata": {},
   "source": [
    "### Big Data Processing\n",
    "# SciPi: Scientific Publication Analytics Prototype\n",
    "\n",
    "<hr>\n",
    "\n",
    "For further details visit our GitHub Repository: https://github.com/achmand/SciPi"
   ]
  },
  {
   "cell_type": "code",
   "execution_count": 1,
   "metadata": {},
   "outputs": [
    {
     "data": {
      "text/html": [
       "        <script type=\"text/javascript\">\n",
       "        window.PlotlyConfig = {MathJaxConfig: 'local'};\n",
       "        if (window.MathJax) {MathJax.Hub.Config({SVG: {font: \"STIX-Web\"}});}\n",
       "        if (typeof require !== 'undefined') {\n",
       "        require.undef(\"plotly\");\n",
       "        requirejs.config({\n",
       "            paths: {\n",
       "                'plotly': ['https://cdn.plot.ly/plotly-latest.min']\n",
       "            }\n",
       "        });\n",
       "        require(['plotly'], function(Plotly) {\n",
       "            window._Plotly = Plotly;\n",
       "        });\n",
       "        }\n",
       "        </script>\n",
       "        "
      ]
     },
     "metadata": {},
     "output_type": "display_data"
    }
   ],
   "source": [
    "# importing libraries \n",
    "import pandas as pd\n",
    "from visualisations import ScipiVisual "
   ]
  },
  {
   "cell_type": "code",
   "execution_count": 2,
   "metadata": {},
   "outputs": [],
   "source": [
    "# initialize a new instance for ScipiVisual & set environment \n",
    "cassandra_points = [\"localhost\"] # set points for cassandra cluster \n",
    "#cassandra_points = [\"ec2-18-195-41-253.eu-central-1.compute.amazonaws.com\"] # set points for cassandra cluster \n",
    "\n",
    "# IMPORTANT SET UP PATH TO SCIPI HERE  \n",
    "scipi_path = \"/home/delinvas/repos/SciPi\"\n",
    "#scipi_path = \"/home/hadoop/SciPi\"\n",
    "\n",
    "# initialize a new instance of ScipiVisual (for local execution)\n",
    "visual = ScipiVisual(cassandra_points=cassandra_points,\n",
    "                     scipi_path=scipi_path,\n",
    "                     is_local=True) \n",
    "\n",
    "# initialize a new instance of ScipiVisual (for cloud execution)\n",
    "# visual = ScipiVisual(cassandra_points=cassandra_points,\n",
    "#                      scipi_path=scipi_path,\n",
    "#                      is_local=False) \n",
    "\n",
    "# set setup for community plots \n",
    "community_colors = [\"red\", \"green\", \"blue\"]"
   ]
  },
  {
   "cell_type": "markdown",
   "metadata": {},
   "source": [
    "## Topics in Publications Network"
   ]
  },
  {
   "cell_type": "code",
   "execution_count": 3,
   "metadata": {},
   "outputs": [
    {
     "name": "stdout",
     "output_type": "stream",
     "text": [
      "Executing /home/delinvas/repos/SciPi/src/scripts/local_flink_topics.sh\n",
      "Top 100 Major Keywords\n"
     ]
    },
    {
     "data": {
      "application/vnd.plotly.v1+json": {
       "config": {
        "linkText": "Export to plot.ly",
        "plotlyServerURL": "https://plot.ly",
        "responsive": true,
        "showLink": false
       },
       "data": [
        {
         "cells": {
          "align": [
           "left",
           "left",
           "left",
           "left",
           "left"
          ],
          "fill": {
           "color": "#F5F8FF"
          },
          "values": [
           [
            "human",
            "homme",
            "hombre",
            "humans",
            "vertebrata",
            "bioinformatics",
            "life sciences",
            "biomedical research",
            "europe pmc",
            "europe pubmed central",
            "biological patents",
            "citation search",
            "etude experimentale",
            "female",
            "mammalia",
            "male",
            "animals",
            "open access",
            "treatment",
            "estudio experimental",
            "enzyme",
            "traitement",
            "tratamiento",
            "rodentia",
            "medical journals",
            "health research",
            "uk research reports",
            "uk phd theses thesis",
            "uk clinical guidelines",
            "abstracts",
            "adult",
            "safety",
            "animal",
            "kinetics",
            "research articles",
            "enzima",
            "article",
            "literature search",
            "text mining",
            "full text",
            "clinical guidelines",
            "biomedical journals",
            "citation networks",
            "orcids",
            "rest apis",
            "cardiovascular disease",
            "human factors",
            "ergonomics",
            "genetics",
            "rat",
            "traffic safety",
            "falls",
            "accident prevention",
            "occupational safety",
            "pedestrian safety",
            "injury prevention",
            "safety literature",
            "poisoning prevention",
            "safety abstracts",
            "poison control",
            "suicide prevention",
            "bicycle safety",
            "injury research",
            "violence prevention",
            "injury control",
            "safety research",
            "home safety",
            "surgery",
            "aparato circulatorio patologia",
            "middle aged",
            "spermatophyta",
            "comparative study",
            "rata",
            "infection",
            "nervous system diseases",
            "modeling",
            "sistema nervioso patologia",
            "angiospermae",
            "mice",
            "bacteria",
            "etude comparative",
            "spectrum",
            "estudio comparativo",
            "child",
            "infeccion",
            "modelisation",
            "public health",
            "gene expression",
            "chirurgie",
            "cirugia",
            "journal article",
            "medicine",
            "malignant tumor",
            "tumeur maligne",
            "tumor maligno",
            "bacterie",
            "mathematical model",
            "in vitro",
            "modelizacion",
            "north america"
           ],
           [
            5936,
            5857,
            5758,
            4010,
            2702,
            2637,
            2615,
            2528,
            2501,
            2501,
            2501,
            2501,
            2477,
            2415,
            2333,
            2179,
            2129,
            1911,
            1860,
            1791,
            1761,
            1688,
            1681,
            1613,
            1418,
            1415,
            1414,
            1414,
            1414,
            1334,
            1320,
            1268,
            1256,
            1237,
            1188,
            1148,
            1144,
            1138,
            1134,
            1121,
            1117,
            1116,
            1116,
            1116,
            1116,
            1109,
            1086,
            1056,
            1054,
            1046,
            1044,
            1041,
            1039,
            1038,
            1035,
            1035,
            1032,
            1032,
            1032,
            1032,
            1032,
            1032,
            1032,
            1032,
            1032,
            1032,
            1032,
            1016,
            996,
            970,
            968,
            964,
            959,
            943,
            933,
            920,
            917,
            907,
            900,
            889,
            888,
            882,
            878,
            866,
            860,
            859,
            857,
            842,
            831,
            825,
            820,
            819,
            816,
            816,
            815,
            802,
            776,
            770,
            750,
            744
           ]
          ]
         },
         "header": {
          "align": [
           "left",
           "left",
           "left",
           "left",
           "left"
          ],
          "fill": {
           "color": "#C2D4FF"
          },
          "values": [
           "Keyword",
           "Count"
          ]
         },
         "type": "table",
         "uid": "f31ca1dc-e1cd-47d2-bde0-be17cfe4091d"
        }
       ],
       "layout": {
        "height": 700,
        "width": 900
       }
      },
      "text/html": [
       "<div>\n",
       "        \n",
       "        \n",
       "            <div id=\"c8df136d-5e4e-407c-8ccb-26a79cf48e0c\" class=\"plotly-graph-div\" style=\"height:700px; width:900px;\"></div>\n",
       "            <script type=\"text/javascript\">\n",
       "                require([\"plotly\"], function(Plotly) {\n",
       "                    window.PLOTLYENV=window.PLOTLYENV || {};\n",
       "                    window.PLOTLYENV.BASE_URL='https://plot.ly';\n",
       "                    \n",
       "                if (document.getElementById(\"c8df136d-5e4e-407c-8ccb-26a79cf48e0c\")) {\n",
       "                    Plotly.newPlot(\n",
       "                        'c8df136d-5e4e-407c-8ccb-26a79cf48e0c',\n",
       "                        [{\"cells\": {\"align\": [\"left\", \"left\", \"left\", \"left\", \"left\"], \"fill\": {\"color\": \"#F5F8FF\"}, \"values\": [[\"human\", \"homme\", \"hombre\", \"humans\", \"vertebrata\", \"bioinformatics\", \"life sciences\", \"biomedical research\", \"europe pmc\", \"europe pubmed central\", \"biological patents\", \"citation search\", \"etude experimentale\", \"female\", \"mammalia\", \"male\", \"animals\", \"open access\", \"treatment\", \"estudio experimental\", \"enzyme\", \"traitement\", \"tratamiento\", \"rodentia\", \"medical journals\", \"health research\", \"uk research reports\", \"uk phd theses thesis\", \"uk clinical guidelines\", \"abstracts\", \"adult\", \"safety\", \"animal\", \"kinetics\", \"research articles\", \"enzima\", \"article\", \"literature search\", \"text mining\", \"full text\", \"clinical guidelines\", \"biomedical journals\", \"citation networks\", \"orcids\", \"rest apis\", \"cardiovascular disease\", \"human factors\", \"ergonomics\", \"genetics\", \"rat\", \"traffic safety\", \"falls\", \"accident prevention\", \"occupational safety\", \"pedestrian safety\", \"injury prevention\", \"safety literature\", \"poisoning prevention\", \"safety abstracts\", \"poison control\", \"suicide prevention\", \"bicycle safety\", \"injury research\", \"violence prevention\", \"injury control\", \"safety research\", \"home safety\", \"surgery\", \"aparato circulatorio patologia\", \"middle aged\", \"spermatophyta\", \"comparative study\", \"rata\", \"infection\", \"nervous system diseases\", \"modeling\", \"sistema nervioso patologia\", \"angiospermae\", \"mice\", \"bacteria\", \"etude comparative\", \"spectrum\", \"estudio comparativo\", \"child\", \"infeccion\", \"modelisation\", \"public health\", \"gene expression\", \"chirurgie\", \"cirugia\", \"journal article\", \"medicine\", \"malignant tumor\", \"tumeur maligne\", \"tumor maligno\", \"bacterie\", \"mathematical model\", \"in vitro\", \"modelizacion\", \"north america\"], [5936, 5857, 5758, 4010, 2702, 2637, 2615, 2528, 2501, 2501, 2501, 2501, 2477, 2415, 2333, 2179, 2129, 1911, 1860, 1791, 1761, 1688, 1681, 1613, 1418, 1415, 1414, 1414, 1414, 1334, 1320, 1268, 1256, 1237, 1188, 1148, 1144, 1138, 1134, 1121, 1117, 1116, 1116, 1116, 1116, 1109, 1086, 1056, 1054, 1046, 1044, 1041, 1039, 1038, 1035, 1035, 1032, 1032, 1032, 1032, 1032, 1032, 1032, 1032, 1032, 1032, 1032, 1016, 996, 970, 968, 964, 959, 943, 933, 920, 917, 907, 900, 889, 888, 882, 878, 866, 860, 859, 857, 842, 831, 825, 820, 819, 816, 816, 815, 802, 776, 770, 750, 744]]}, \"header\": {\"align\": [\"left\", \"left\", \"left\", \"left\", \"left\"], \"fill\": {\"color\": \"#C2D4FF\"}, \"values\": [\"Keyword\", \"Count\"]}, \"type\": \"table\", \"uid\": \"91778986-a2f5-4520-8dae-3a5c9c8d1284\"}],\n",
       "                        {\"height\": 700, \"width\": 900},\n",
       "                        {\"showLink\": false, \"linkText\": \"Export to plot.ly\", \"plotlyServerURL\": \"https://plot.ly\", \"responsive\": true}\n",
       "                    ).then(function(){\n",
       "                            \n",
       "var gd = document.getElementById('c8df136d-5e4e-407c-8ccb-26a79cf48e0c');\n",
       "var x = new MutationObserver(function (mutations, observer) {{\n",
       "        var display = window.getComputedStyle(gd).display;\n",
       "        if (!display || display === 'none') {{\n",
       "            console.log([gd, 'removed!']);\n",
       "            Plotly.purge(gd);\n",
       "            observer.disconnect();\n",
       "        }}\n",
       "}});\n",
       "\n",
       "// Listen for the removal of the full notebook cells\n",
       "var notebookContainer = gd.closest('#notebook-container');\n",
       "if (notebookContainer) {{\n",
       "    x.observe(notebookContainer, {childList: true});\n",
       "}}\n",
       "\n",
       "// Listen for the clearing of the current output cell\n",
       "var outputEl = gd.closest('.output');\n",
       "if (outputEl) {{\n",
       "    x.observe(outputEl, {childList: true});\n",
       "}}\n",
       "\n",
       "                        })\n",
       "                };\n",
       "                });\n",
       "            </script>\n",
       "        </div>"
      ]
     },
     "metadata": {},
     "output_type": "display_data"
    },
    {
     "name": "stdout",
     "output_type": "stream",
     "text": [
      "Top 100 Major Fields\n"
     ]
    },
    {
     "data": {
      "application/vnd.plotly.v1+json": {
       "config": {
        "linkText": "Export to plot.ly",
        "plotlyServerURL": "https://plot.ly",
        "responsive": true,
        "showLink": false
       },
       "data": [
        {
         "cells": {
          "align": [
           "left",
           "left",
           "left",
           "left",
           "left"
          ],
          "fill": {
           "color": "#F5F8FF"
          },
          "values": [
           [
            "medicine",
            "biology",
            "physics",
            "chemistry",
            "surgery",
            "pathology",
            "computer science",
            "biochemistry",
            "genetics",
            "engineering",
            "immunology",
            "quantum mechanics",
            "organic chemistry",
            "mathematics",
            "psychology",
            "endocrinology",
            "anatomy",
            "diabetes mellitus",
            "materials science",
            "optics",
            "ecology",
            "stereochemistry",
            "botany",
            "electronic engineering",
            "statistics",
            "sociology",
            "social psychology",
            "analytical chemistry",
            "economics",
            "molecular biology",
            "simulation",
            "bioinformatics",
            "inorganic chemistry",
            "nanotechnology",
            "law",
            "nuclear magnetic resonance",
            "mineralogy",
            "ceramic materials",
            "anesthesia",
            "forensic engineering",
            "chromatography",
            "mathematical optimization",
            "telecommunications",
            "psychiatry",
            "developmental psychology",
            "virology",
            "management",
            "physical therapy",
            "electrical engineering",
            "photochemistry",
            "control theory",
            "neuroscience",
            "thermodynamics",
            "condensed matter physics",
            "social science",
            "microbiology",
            "geology",
            "control engineering",
            "atomic physics",
            "metallurgy",
            "operations management",
            "intensive care medicine",
            "radiology",
            "crystallography",
            "economic growth",
            "artificial intelligence",
            "machine learning",
            "communication",
            "data mining",
            "pedagogy",
            "mathematical analysis",
            "computer vision",
            "gynecology",
            "classical mechanics",
            "pediatrics",
            "composite material",
            "biotechnology",
            "meteorology",
            "realtime computing",
            "nursing",
            "optoelectronics",
            "discrete mathematics",
            "pharmacology",
            "clinical psychology",
            "medical research",
            "enzyme",
            "alternative medicine",
            "cardiology",
            "calculus",
            "medical emergency",
            "engineering drawing",
            "theoretical computer science",
            "environmental engineering",
            "computer security",
            "hydrology",
            "algorithm",
            "structural engineering",
            "world wide web",
            "computer network",
            "combinatorics"
           ],
           [
            25717,
            23994,
            17902,
            17682,
            12808,
            12599,
            9737,
            9189,
            8678,
            8423,
            8151,
            8034,
            7925,
            7688,
            6811,
            6292,
            5812,
            5630,
            5510,
            5452,
            5390,
            5097,
            4472,
            4336,
            4259,
            4218,
            4176,
            4003,
            3959,
            3820,
            3729,
            3615,
            3584,
            3394,
            3218,
            3019,
            2952,
            2950,
            2903,
            2894,
            2841,
            2758,
            2726,
            2678,
            2659,
            2577,
            2523,
            2475,
            2330,
            2216,
            2190,
            2183,
            2153,
            2141,
            2140,
            2115,
            2090,
            2080,
            2078,
            2062,
            1948,
            1911,
            1903,
            1823,
            1813,
            1811,
            1808,
            1807,
            1803,
            1798,
            1795,
            1774,
            1765,
            1711,
            1683,
            1670,
            1636,
            1565,
            1542,
            1524,
            1518,
            1500,
            1478,
            1446,
            1437,
            1436,
            1431,
            1381,
            1374,
            1360,
            1356,
            1355,
            1339,
            1332,
            1328,
            1320,
            1299,
            1264,
            1256,
            1242
           ]
          ]
         },
         "header": {
          "align": [
           "left",
           "left",
           "left",
           "left",
           "left"
          ],
          "fill": {
           "color": "#C2D4FF"
          },
          "values": [
           "Field",
           "Count"
          ]
         },
         "type": "table",
         "uid": "27f34d40-a25d-4a51-83b3-a0a97f0fb0e3"
        }
       ],
       "layout": {
        "height": 700,
        "width": 900
       }
      },
      "text/html": [
       "<div>\n",
       "        \n",
       "        \n",
       "            <div id=\"b3bc8c9c-2faf-40c7-a008-7a42fbff0558\" class=\"plotly-graph-div\" style=\"height:700px; width:900px;\"></div>\n",
       "            <script type=\"text/javascript\">\n",
       "                require([\"plotly\"], function(Plotly) {\n",
       "                    window.PLOTLYENV=window.PLOTLYENV || {};\n",
       "                    window.PLOTLYENV.BASE_URL='https://plot.ly';\n",
       "                    \n",
       "                if (document.getElementById(\"b3bc8c9c-2faf-40c7-a008-7a42fbff0558\")) {\n",
       "                    Plotly.newPlot(\n",
       "                        'b3bc8c9c-2faf-40c7-a008-7a42fbff0558',\n",
       "                        [{\"cells\": {\"align\": [\"left\", \"left\", \"left\", \"left\", \"left\"], \"fill\": {\"color\": \"#F5F8FF\"}, \"values\": [[\"medicine\", \"biology\", \"physics\", \"chemistry\", \"surgery\", \"pathology\", \"computer science\", \"biochemistry\", \"genetics\", \"engineering\", \"immunology\", \"quantum mechanics\", \"organic chemistry\", \"mathematics\", \"psychology\", \"endocrinology\", \"anatomy\", \"diabetes mellitus\", \"materials science\", \"optics\", \"ecology\", \"stereochemistry\", \"botany\", \"electronic engineering\", \"statistics\", \"sociology\", \"social psychology\", \"analytical chemistry\", \"economics\", \"molecular biology\", \"simulation\", \"bioinformatics\", \"inorganic chemistry\", \"nanotechnology\", \"law\", \"nuclear magnetic resonance\", \"mineralogy\", \"ceramic materials\", \"anesthesia\", \"forensic engineering\", \"chromatography\", \"mathematical optimization\", \"telecommunications\", \"psychiatry\", \"developmental psychology\", \"virology\", \"management\", \"physical therapy\", \"electrical engineering\", \"photochemistry\", \"control theory\", \"neuroscience\", \"thermodynamics\", \"condensed matter physics\", \"social science\", \"microbiology\", \"geology\", \"control engineering\", \"atomic physics\", \"metallurgy\", \"operations management\", \"intensive care medicine\", \"radiology\", \"crystallography\", \"economic growth\", \"artificial intelligence\", \"machine learning\", \"communication\", \"data mining\", \"pedagogy\", \"mathematical analysis\", \"computer vision\", \"gynecology\", \"classical mechanics\", \"pediatrics\", \"composite material\", \"biotechnology\", \"meteorology\", \"realtime computing\", \"nursing\", \"optoelectronics\", \"discrete mathematics\", \"pharmacology\", \"clinical psychology\", \"medical research\", \"enzyme\", \"alternative medicine\", \"cardiology\", \"calculus\", \"medical emergency\", \"engineering drawing\", \"theoretical computer science\", \"environmental engineering\", \"computer security\", \"hydrology\", \"algorithm\", \"structural engineering\", \"world wide web\", \"computer network\", \"combinatorics\"], [25717, 23994, 17902, 17682, 12808, 12599, 9737, 9189, 8678, 8423, 8151, 8034, 7925, 7688, 6811, 6292, 5812, 5630, 5510, 5452, 5390, 5097, 4472, 4336, 4259, 4218, 4176, 4003, 3959, 3820, 3729, 3615, 3584, 3394, 3218, 3019, 2952, 2950, 2903, 2894, 2841, 2758, 2726, 2678, 2659, 2577, 2523, 2475, 2330, 2216, 2190, 2183, 2153, 2141, 2140, 2115, 2090, 2080, 2078, 2062, 1948, 1911, 1903, 1823, 1813, 1811, 1808, 1807, 1803, 1798, 1795, 1774, 1765, 1711, 1683, 1670, 1636, 1565, 1542, 1524, 1518, 1500, 1478, 1446, 1437, 1436, 1431, 1381, 1374, 1360, 1356, 1355, 1339, 1332, 1328, 1320, 1299, 1264, 1256, 1242]]}, \"header\": {\"align\": [\"left\", \"left\", \"left\", \"left\", \"left\"], \"fill\": {\"color\": \"#C2D4FF\"}, \"values\": [\"Field\", \"Count\"]}, \"type\": \"table\", \"uid\": \"32d1257b-ac7c-4647-b186-4b9e66779735\"}],\n",
       "                        {\"height\": 700, \"width\": 900},\n",
       "                        {\"showLink\": false, \"linkText\": \"Export to plot.ly\", \"plotlyServerURL\": \"https://plot.ly\", \"responsive\": true}\n",
       "                    ).then(function(){\n",
       "                            \n",
       "var gd = document.getElementById('b3bc8c9c-2faf-40c7-a008-7a42fbff0558');\n",
       "var x = new MutationObserver(function (mutations, observer) {{\n",
       "        var display = window.getComputedStyle(gd).display;\n",
       "        if (!display || display === 'none') {{\n",
       "            console.log([gd, 'removed!']);\n",
       "            Plotly.purge(gd);\n",
       "            observer.disconnect();\n",
       "        }}\n",
       "}});\n",
       "\n",
       "// Listen for the removal of the full notebook cells\n",
       "var notebookContainer = gd.closest('#notebook-container');\n",
       "if (notebookContainer) {{\n",
       "    x.observe(notebookContainer, {childList: true});\n",
       "}}\n",
       "\n",
       "// Listen for the clearing of the current output cell\n",
       "var outputEl = gd.closest('.output');\n",
       "if (outputEl) {{\n",
       "    x.observe(outputEl, {childList: true});\n",
       "}}\n",
       "\n",
       "                        })\n",
       "                };\n",
       "                });\n",
       "            </script>\n",
       "        </div>"
      ]
     },
     "metadata": {},
     "output_type": "display_data"
    }
   ],
   "source": [
    "# top major topics \n",
    "visual.apply_major_topics(n_count=\"200\", result_path= \"/topics\")"
   ]
  },
  {
   "cell_type": "markdown",
   "metadata": {},
   "source": [
    "## Dense Communities in Publications Network"
   ]
  },
  {
   "cell_type": "markdown",
   "metadata": {},
   "source": [
    "### Community #1"
   ]
  },
  {
   "cell_type": "code",
   "execution_count": 4,
   "metadata": {
    "scrolled": false
   },
   "outputs": [
    {
     "name": "stdout",
     "output_type": "stream",
     "text": [
      "IMPORTANT: Wait for print complete to continue and press ENTER ONCE on one text box\n",
      "\n",
      "Apply Community Detection using keywords (Comma Separated) - PRESS ENTER\n"
     ]
    },
    {
     "data": {
      "application/vnd.jupyter.widget-view+json": {
       "model_id": "c74a9f3a80934462b73c013448378220",
       "version_major": 2,
       "version_minor": 0
      },
      "text/plain": [
       "Text(value='')"
      ]
     },
     "metadata": {},
     "output_type": "display_data"
    },
    {
     "name": "stdout",
     "output_type": "stream",
     "text": [
      "Apply Community Detection using fields of study (Comma Separated) - PRESS ENTER\n"
     ]
    },
    {
     "data": {
      "application/vnd.jupyter.widget-view+json": {
       "model_id": "e69595f66cde44b0a5a047570ff22d61",
       "version_major": 2,
       "version_minor": 0
      },
      "text/plain": [
       "Text(value='')"
      ]
     },
     "metadata": {},
     "output_type": "display_data"
    }
   ],
   "source": [
    "# apply flink community detection   \n",
    "visual.community_detection(community_colors=community_colors,\n",
    "                           result_path=\"/community_1\")"
   ]
  },
  {
   "cell_type": "markdown",
   "metadata": {},
   "source": [
    "### Community #2"
   ]
  },
  {
   "cell_type": "code",
   "execution_count": null,
   "metadata": {
    "scrolled": false
   },
   "outputs": [],
   "source": [
    "# apply flink community detection   \n",
    "visual.community_detection(community_colors=community_colors,\n",
    "                           result_path=\"/community_2\")"
   ]
  },
  {
   "cell_type": "markdown",
   "metadata": {},
   "source": [
    "## Dynamics in Publication Networks "
   ]
  },
  {
   "cell_type": "markdown",
   "metadata": {},
   "source": [
    "### Authorship Pattern"
   ]
  },
  {
   "cell_type": "code",
   "execution_count": null,
   "metadata": {
    "scrolled": false
   },
   "outputs": [],
   "source": [
    "# plot authorship pattern\n",
    "cutoff_unit = 20\n",
    "visual.plot_authorship_ptrn(cutoff_unit)"
   ]
  },
  {
   "cell_type": "markdown",
   "metadata": {},
   "source": [
    "### Single Authored vs. Co-authored Publications"
   ]
  },
  {
   "cell_type": "code",
   "execution_count": null,
   "metadata": {
    "scrolled": false
   },
   "outputs": [],
   "source": [
    "# plot year-wise distribution single author vs co-authored \n",
    "n_years = 20\n",
    "visual.plot_yr_dist(years=n_years)"
   ]
  },
  {
   "cell_type": "markdown",
   "metadata": {},
   "source": [
    "### Average Number of Authors per Paper (AAP)"
   ]
  },
  {
   "cell_type": "code",
   "execution_count": null,
   "metadata": {},
   "outputs": [],
   "source": [
    "# plot avg number of authors per paper (AAP)\n",
    "visual.plot_aap(years=n_years)"
   ]
  },
  {
   "cell_type": "markdown",
   "metadata": {},
   "source": [
    "### Paper Authorship Goes Hyper"
   ]
  },
  {
   "cell_type": "code",
   "execution_count": null,
   "metadata": {},
   "outputs": [],
   "source": [
    "# plot publications with over 100 authors, yearly distributed \n",
    "# starting from 2012\n",
    "visual.plot_hyper_authorship(earliest=2000)"
   ]
  },
  {
   "cell_type": "markdown",
   "metadata": {},
   "source": [
    "## Association & Correlation Analysis "
   ]
  },
  {
   "cell_type": "markdown",
   "metadata": {},
   "source": [
    "### Association between Authors & Keywords & Potential Collaborators"
   ]
  },
  {
   "cell_type": "code",
   "execution_count": null,
   "metadata": {
    "scrolled": false
   },
   "outputs": [],
   "source": [
    "# apply flink association/correlation analysis and plot results    \n",
    "visual.author_association(result_path=\"/association_correlation\")"
   ]
  },
  {
   "cell_type": "code",
   "execution_count": null,
   "metadata": {},
   "outputs": [],
   "source": [
    "# close all connections/sessions used by ScipiVisual\n",
    "visual.close()"
   ]
  }
 ],
 "metadata": {
  "kernelspec": {
   "display_name": "Python [conda env:ics5114] *",
   "language": "python",
   "name": "conda-env-ics5114-py"
  },
  "language_info": {
   "codemirror_mode": {
    "name": "ipython",
    "version": 3
   },
   "file_extension": ".py",
   "mimetype": "text/x-python",
   "name": "python",
   "nbconvert_exporter": "python",
   "pygments_lexer": "ipython3",
   "version": "3.7.3"
  }
 },
 "nbformat": 4,
 "nbformat_minor": 2
}
