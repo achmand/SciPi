{
 "cells": [
  {
   "cell_type": "code",
   "execution_count": 1,
   "metadata": {},
   "outputs": [
    {
     "data": {
      "text/html": [
       "        <script type=\"text/javascript\">\n",
       "        window.PlotlyConfig = {MathJaxConfig: 'local'};\n",
       "        if (window.MathJax) {MathJax.Hub.Config({SVG: {font: \"STIX-Web\"}});}\n",
       "        if (typeof require !== 'undefined') {\n",
       "        require.undef(\"plotly\");\n",
       "        requirejs.config({\n",
       "            paths: {\n",
       "                'plotly': ['https://cdn.plot.ly/plotly-latest.min']\n",
       "            }\n",
       "        });\n",
       "        require(['plotly'], function(Plotly) {\n",
       "            window._Plotly = Plotly;\n",
       "        });\n",
       "        }\n",
       "        </script>\n",
       "        "
      ]
     },
     "metadata": {},
     "output_type": "display_data"
    }
   ],
   "source": [
    "# importing libraries \n",
    "import pandas as pd\n",
    "from visualisations import ScipiVisual "
   ]
  },
  {
   "cell_type": "code",
   "execution_count": 2,
   "metadata": {},
   "outputs": [],
   "source": [
    "# initialize a new instance for ScipiVisual & set environment \n",
    "cassandra_points = [\"localhost\"] \n",
    "visual = ScipiVisual(cassandra_points=cassandra_points)"
   ]
  },
  {
   "cell_type": "markdown",
   "metadata": {},
   "source": [
    "## Dense Communities in Publications Network"
   ]
  },
  {
   "cell_type": "code",
   "execution_count": 3,
   "metadata": {
    "scrolled": false
   },
   "outputs": [
    {
     "ename": "NameError",
     "evalue": "name 'g_layout' is not defined",
     "output_type": "error",
     "traceback": [
      "\u001b[0;31m---------------------------------------------------------------------------\u001b[0m",
      "\u001b[0;31mNameError\u001b[0m                                 Traceback (most recent call last)",
      "\u001b[0;32m<ipython-input-3-82151c4ad6a0>\u001b[0m in \u001b[0;36m<module>\u001b[0;34m\u001b[0m\n\u001b[1;32m      4\u001b[0m \u001b[0;31m# plot network using neato layout\u001b[0m\u001b[0;34m\u001b[0m\u001b[0;34m\u001b[0m\u001b[0;34m\u001b[0m\u001b[0m\n\u001b[1;32m      5\u001b[0m \u001b[0mg_layout_neat\u001b[0m\u001b[0;34m=\u001b[0m\u001b[0;34m\"neato\"\u001b[0m \u001b[0;31m# spring model layout\u001b[0m\u001b[0;34m\u001b[0m\u001b[0;34m\u001b[0m\u001b[0m\n\u001b[0;32m----> 6\u001b[0;31m visual.plot_community(layout=g_layout, \n\u001b[0m\u001b[1;32m      7\u001b[0m                       community_colors=community_colors)\n\u001b[1;32m      8\u001b[0m \u001b[0;34m\u001b[0m\u001b[0m\n",
      "\u001b[0;31mNameError\u001b[0m: name 'g_layout' is not defined"
     ]
    }
   ],
   "source": [
    "# plot dense communities in publication network\n",
    "community_colors = [\"red\", \"green\", \"blue\"]\n",
    "\n",
    "# plot network using neato layout\n",
    "g_layout_neat=\"neato\" # spring model layout\n",
    "visual.plot_community(layout=g_layout_neat, \n",
    "                      community_colors=community_colors)\n",
    "\n",
    "# plot the same network using dot\n",
    "g_layout_dot=\"dot\" # hierarchical\n",
    "visual.plot_community(layout=g_layout_dot, \n",
    "                      community_colors=community_colors)\n",
    "\n",
    "# layout types TODO -> For function definition comments to explain different layout \n",
    "# https://stackoverflow.com/questions/21978487/improving-python-networkx-graph-layout"
   ]
  },
  {
   "cell_type": "markdown",
   "metadata": {},
   "source": [
    "## Dynamics in Publication Networks "
   ]
  },
  {
   "cell_type": "code",
   "execution_count": null,
   "metadata": {
    "scrolled": false
   },
   "outputs": [],
   "source": [
    "# plot authorship pattern\n",
    "# cutoff_unit = 20\n",
    "# visual.plot_authorship_ptrn(cutoff_unit)"
   ]
  },
  {
   "cell_type": "code",
   "execution_count": null,
   "metadata": {
    "scrolled": false
   },
   "outputs": [],
   "source": [
    "# plot year-wise distribution single author vs co-authored \n",
    "# n_years = 20\n",
    "# visual.plot_yr_dist(years=n_years)"
   ]
  },
  {
   "cell_type": "code",
   "execution_count": null,
   "metadata": {},
   "outputs": [],
   "source": [
    "# plot avg number of authors per paper (AAP)\n",
    "# visual.plot_aap(years=n_years)"
   ]
  },
  {
   "cell_type": "code",
   "execution_count": null,
   "metadata": {
    "scrolled": false
   },
   "outputs": [],
   "source": []
  },
  {
   "cell_type": "code",
   "execution_count": null,
   "metadata": {},
   "outputs": [],
   "source": []
  }
 ],
 "metadata": {
  "kernelspec": {
   "display_name": "Python [conda env:ics5114] *",
   "language": "python",
   "name": "conda-env-ics5114-py"
  },
  "language_info": {
   "codemirror_mode": {
    "name": "ipython",
    "version": 3
   },
   "file_extension": ".py",
   "mimetype": "text/x-python",
   "name": "python",
   "nbconvert_exporter": "python",
   "pygments_lexer": "ipython3",
   "version": "3.7.3"
  }
 },
 "nbformat": 4,
 "nbformat_minor": 2
}
