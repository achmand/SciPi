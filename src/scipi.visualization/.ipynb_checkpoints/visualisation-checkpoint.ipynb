{
 "cells": [
  {
   "cell_type": "code",
   "execution_count": 8,
   "metadata": {},
   "outputs": [],
   "source": [
    "# importing libraries \n",
    "import pandas as pd\n",
    "from cassandra.cluster import Cluster\n",
    "from IPython.core.display import display\n",
    "import datetime"
   ]
  },
  {
   "cell_type": "code",
   "execution_count": 9,
   "metadata": {},
   "outputs": [],
   "source": [
    "cluster = Cluster([\"localhost\"])\n",
    "session = cluster.connect()\n",
    "scipi_keyspace = \"scipi\"\n",
    "session.set_keyspace(scipi_keyspace)"
   ]
  },
  {
   "cell_type": "code",
   "execution_count": 10,
   "metadata": {},
   "outputs": [],
   "source": [
    "def pandas_factory(colnames, rows):\n",
    "    return pd.DataFrame(rows, columns=colnames)\n",
    "\n",
    "session.row_factory = pandas_factory\n",
    "session.default_fetch_size = None"
   ]
  },
  {
   "cell_type": "code",
   "execution_count": 66,
   "metadata": {},
   "outputs": [],
   "source": [
    "def year_distribution(years):\n",
    "    year_dist = session.execute(\"SELECT year,total FROM yrwisedist;\", timeout=None)\n",
    "    year_dist_df = year_dist._current_rows\n",
    "    \n",
    "    year_dist_df.set_index(\"year\", inplace=True)\n",
    "    year_dist_df.sort_values(by=[\"year\"], ascending=False, inplace=True)\n",
    "    year_dist_df_n = year_dist_df.head(years).copy()\n",
    "\n",
    "    year_dist_total = year_dist_df_n[\"total\"].sum()\n",
    "    year_dist_df_n[\"percentage\"] = (year_dist_df_n[\"total\"] / year_dist_total) * 100\n",
    "    year_dist_df_n.columns = [\"articles published\", \"% of total\"] # + str(year_dist_total)]\n",
    "\n",
    "    return year_dist_df_n\n"
   ]
  },
  {
   "cell_type": "code",
   "execution_count": 67,
   "metadata": {},
   "outputs": [],
   "source": [
    "def single_joint_authorship(prev_years):    \n",
    "    sng_jnt_dist = session.execute(\"SELECT year,single,joint,total,single_perc,joint_perc FROM yrwisedist;\", timeout=None)\n",
    "    sng_jnt_dist_df = sng_jnt_dist._current_rows\n",
    "    \n",
    "    sng_jnt_dist_df.set_index(\"year\", inplace=True)\n",
    "    sng_jnt_dist_df.sort_values(by=[\"year\"], ascending=False, inplace=True)\n",
    "    sng_jnt_dist_df[\"single_perc\"] = sng_jnt_dist_df[\"single_perc\"]*100.00\n",
    "    sng_jnt_dist_df[\"joint_perc\"] = sng_jnt_dist_df[\"joint_perc\"]*100.00\n",
    "    sng_jnt_dist_df.columns = [\"single authored\",\"joint authored\",\"total articles publised\",\"% of single authored\",\"% of joint authored\"]\n",
    "    sng_jnt_dist_df = sng_jnt_dist_df.head(prev_years).copy()\n",
    "\n",
    "    return sng_jnt_dist_df\n"
   ]
  },
  {
   "cell_type": "code",
   "execution_count": null,
   "metadata": {
    "scrolled": true
   },
   "outputs": [],
   "source": []
  },
  {
   "cell_type": "code",
   "execution_count": null,
   "metadata": {},
   "outputs": [],
   "source": []
  },
  {
   "cell_type": "code",
   "execution_count": null,
   "metadata": {},
   "outputs": [],
   "source": []
  }
 ],
 "metadata": {
  "kernelspec": {
   "display_name": "Python [conda env:ics5114] *",
   "language": "python",
   "name": "conda-env-ics5114-py"
  },
  "language_info": {
   "codemirror_mode": {
    "name": "ipython",
    "version": 3
   },
   "file_extension": ".py",
   "mimetype": "text/x-python",
   "name": "python",
   "nbconvert_exporter": "python",
   "pygments_lexer": "ipython3",
   "version": "3.7.3"
  }
 },
 "nbformat": 4,
 "nbformat_minor": 2
}
