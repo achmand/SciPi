{
 "cells": [
  {
   "cell_type": "markdown",
   "metadata": {},
   "source": [
    "### Big Data Processing\n",
    "# SciPi: Scientific Publication Analytics Prototype\n",
    "\n",
    "<hr>\n",
    "\n",
    "For further details visit our GitHub Repository: "
   ]
  },
  {
   "cell_type": "code",
   "execution_count": 1,
   "metadata": {},
   "outputs": [
    {
     "data": {
      "text/html": [
       "        <script type=\"text/javascript\">\n",
       "        window.PlotlyConfig = {MathJaxConfig: 'local'};\n",
       "        if (window.MathJax) {MathJax.Hub.Config({SVG: {font: \"STIX-Web\"}});}\n",
       "        if (typeof require !== 'undefined') {\n",
       "        require.undef(\"plotly\");\n",
       "        requirejs.config({\n",
       "            paths: {\n",
       "                'plotly': ['https://cdn.plot.ly/plotly-latest.min']\n",
       "            }\n",
       "        });\n",
       "        require(['plotly'], function(Plotly) {\n",
       "            window._Plotly = Plotly;\n",
       "        });\n",
       "        }\n",
       "        </script>\n",
       "        "
      ]
     },
     "metadata": {},
     "output_type": "display_data"
    }
   ],
   "source": [
    "# importing libraries \n",
    "import pandas as pd\n",
    "from visualisations import ScipiVisual "
   ]
  },
  {
   "cell_type": "code",
   "execution_count": 2,
   "metadata": {},
   "outputs": [],
   "source": [
    "# initialize a new instance for ScipiVisual & set environment \n",
    "cassandra_points = [\"localhost\"] # set points for cassandra cluster \n",
    "visual = ScipiVisual(cassandra_points=cassandra_points) # initialize a new instance of ScipiVisual\n",
    "\n",
    "# set setup for community plots \n",
    "community_colors = [\"red\", \"green\", \"blue\"]\n",
    "community_1_path = \"/home/delinvas/repos/SciPi/results/community_1\"\n",
    "community_2_path = \"/home/delinvas/repos/SciPi/results/community_2\"\n",
    "\n",
    "# set setup for \n",
    "association_path = \"/home/delinvas/repos/SciPi/results/association_correlation\""
   ]
  },
  {
   "cell_type": "markdown",
   "metadata": {},
   "source": [
    "## Topics in Publications Network"
   ]
  },
  {
   "cell_type": "markdown",
   "metadata": {},
   "source": [
    "## Dense Communities in Publications Network"
   ]
  },
  {
   "cell_type": "markdown",
   "metadata": {},
   "source": [
    "### Community #1"
   ]
  },
  {
   "cell_type": "code",
   "execution_count": null,
   "metadata": {
    "scrolled": false
   },
   "outputs": [],
   "source": [
    "# apply flink community detection   \n",
    "visual.community_detection(community_colors=community_colors,\n",
    "                           result_path=community_1_path)"
   ]
  },
  {
   "cell_type": "markdown",
   "metadata": {},
   "source": [
    "### Community #2"
   ]
  },
  {
   "cell_type": "code",
   "execution_count": null,
   "metadata": {
    "scrolled": false
   },
   "outputs": [],
   "source": [
    "# apply flink community detection   \n",
    "visual.community_detection(community_colors=community_colors,\n",
    "                           result_path=community_2_path)"
   ]
  },
  {
   "cell_type": "markdown",
   "metadata": {},
   "source": [
    "## Dynamics in Publication Networks "
   ]
  },
  {
   "cell_type": "markdown",
   "metadata": {},
   "source": [
    "### Authorship Pattern"
   ]
  },
  {
   "cell_type": "code",
   "execution_count": null,
   "metadata": {
    "scrolled": false
   },
   "outputs": [],
   "source": [
    "# plot authorship pattern\n",
    "cutoff_unit = 20\n",
    "visual.plot_authorship_ptrn(cutoff_unit)"
   ]
  },
  {
   "cell_type": "markdown",
   "metadata": {},
   "source": [
    "### Single Authored vs. Co-authored Publications"
   ]
  },
  {
   "cell_type": "code",
   "execution_count": null,
   "metadata": {
    "scrolled": false
   },
   "outputs": [],
   "source": [
    "# plot year-wise distribution single author vs co-authored \n",
    "n_years = 20\n",
    "visual.plot_yr_dist(years=n_years)"
   ]
  },
  {
   "cell_type": "markdown",
   "metadata": {},
   "source": [
    "### Average Number of Authors per Paper (AAP)"
   ]
  },
  {
   "cell_type": "code",
   "execution_count": null,
   "metadata": {},
   "outputs": [],
   "source": [
    "# plot avg number of authors per paper (AAP)\n",
    "visual.plot_aap(years=n_years)"
   ]
  },
  {
   "cell_type": "markdown",
   "metadata": {},
   "source": [
    "### Paper Authorship Goes Hyper"
   ]
  },
  {
   "cell_type": "code",
   "execution_count": null,
   "metadata": {},
   "outputs": [],
   "source": [
    "# plot publications with over 100 authors, yearly distributed \n",
    "# starting from 2012\n",
    "visual.plot_hyper_authorship(earliest=2000)"
   ]
  },
  {
   "cell_type": "markdown",
   "metadata": {},
   "source": [
    "## Association & Correlation Analysis "
   ]
  },
  {
   "cell_type": "markdown",
   "metadata": {},
   "source": [
    "### Association between Authors & Keywords & Potential Collaborators"
   ]
  },
  {
   "cell_type": "code",
   "execution_count": 3,
   "metadata": {},
   "outputs": [
    {
     "name": "stdout",
     "output_type": "stream",
     "text": [
      "IMPORTANT: Wait for print complete to continue and press ENTER ONCE on one text box\n",
      "\n",
      "Keywords to apply association/correlation analysis (Comma Separated) - PRESS ENTER\n"
     ]
    },
    {
     "data": {
      "application/vnd.jupyter.widget-view+json": {
       "model_id": "c3a7f6ffe3e349b2b88e174f4994170d",
       "version_major": 2,
       "version_minor": 0
      },
      "text/plain": [
       "Text(value='')"
      ]
     },
     "metadata": {},
     "output_type": "display_data"
    }
   ],
   "source": [
    "# apply flink association/correlation analysis and plot results    \n",
    "visual.author_association(result_path=association_path)"
   ]
  },
  {
   "cell_type": "code",
   "execution_count": null,
   "metadata": {},
   "outputs": [],
   "source": [
    "# close all connections/sessions used by ScipiVisual\n",
    "visual.close()"
   ]
  }
 ],
 "metadata": {
  "kernelspec": {
   "display_name": "Python [conda env:ics5114] *",
   "language": "python",
   "name": "conda-env-ics5114-py"
  },
  "language_info": {
   "codemirror_mode": {
    "name": "ipython",
    "version": 3
   },
   "file_extension": ".py",
   "mimetype": "text/x-python",
   "name": "python",
   "nbconvert_exporter": "python",
   "pygments_lexer": "ipython3",
   "version": "3.7.3"
  }
 },
 "nbformat": 4,
 "nbformat_minor": 2
}
