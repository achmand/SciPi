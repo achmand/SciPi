{
 "cells": [
  {
   "cell_type": "code",
   "execution_count": 1,
   "metadata": {},
   "outputs": [
    {
     "data": {
      "text/html": [
       "        <script type=\"text/javascript\">\n",
       "        window.PlotlyConfig = {MathJaxConfig: 'local'};\n",
       "        if (window.MathJax) {MathJax.Hub.Config({SVG: {font: \"STIX-Web\"}});}\n",
       "        if (typeof require !== 'undefined') {\n",
       "        require.undef(\"plotly\");\n",
       "        requirejs.config({\n",
       "            paths: {\n",
       "                'plotly': ['https://cdn.plot.ly/plotly-latest.min']\n",
       "            }\n",
       "        });\n",
       "        require(['plotly'], function(Plotly) {\n",
       "            window._Plotly = Plotly;\n",
       "        });\n",
       "        }\n",
       "        </script>\n",
       "        "
      ]
     },
     "metadata": {},
     "output_type": "display_data"
    }
   ],
   "source": [
    "# importing libraries \n",
    "import pandas as pd\n",
    "from visualisations import ScipiVisual "
   ]
  },
  {
   "cell_type": "code",
   "execution_count": 2,
   "metadata": {},
   "outputs": [],
   "source": [
    "# initialize a new instance for ScipiVisual & set environment \n",
    "cassandra_points = [\"localhost\"] \n",
    "visual = ScipiVisual(cassandra_points=cassandra_points)"
   ]
  },
  {
   "cell_type": "markdown",
   "metadata": {},
   "source": [
    "## Dense Communities in Publications Network"
   ]
  },
  {
   "cell_type": "code",
   "execution_count": 3,
   "metadata": {
    "scrolled": false
   },
   "outputs": [
    {
     "data": {
      "text/html": [
       "<div>\n",
       "<style scoped>\n",
       "    .dataframe tbody tr th:only-of-type {\n",
       "        vertical-align: middle;\n",
       "    }\n",
       "\n",
       "    .dataframe tbody tr th {\n",
       "        vertical-align: top;\n",
       "    }\n",
       "\n",
       "    .dataframe thead th {\n",
       "        text-align: right;\n",
       "    }\n",
       "</style>\n",
       "<table border=\"1\" class=\"dataframe\">\n",
       "  <thead>\n",
       "    <tr style=\"text-align: right;\">\n",
       "      <th></th>\n",
       "      <th>keyword</th>\n",
       "      <th>count</th>\n",
       "    </tr>\n",
       "  </thead>\n",
       "  <tbody>\n",
       "  </tbody>\n",
       "</table>\n",
       "</div>"
      ],
      "text/plain": [
       "Empty DataFrame\n",
       "Columns: [keyword, count]\n",
       "Index: []"
      ]
     },
     "metadata": {},
     "output_type": "display_data"
    }
   ],
   "source": [
    "visual.plot_bubble_topics()"
   ]
  },
  {
   "cell_type": "markdown",
   "metadata": {},
   "source": [
    "## Dynamics in Publication Networks "
   ]
  },
  {
   "cell_type": "code",
   "execution_count": 4,
   "metadata": {
    "scrolled": false
   },
   "outputs": [
    {
     "data": {
      "application/vnd.plotly.v1+json": {
       "config": {
        "linkText": "Export to plot.ly",
        "plotlyServerURL": "https://plot.ly",
        "responsive": true,
        "showLink": false
       },
       "data": [
        {
         "cells": {
          "align": [
           "left",
           "left",
           "left",
           "left",
           "left"
          ],
          "fill": {
           "color": "#F5F8FF"
          },
          "values": [
           [
            1,
            2,
            3,
            4,
            5,
            6,
            7,
            8,
            9,
            10,
            11,
            12,
            13,
            14,
            15,
            16,
            17,
            18,
            19,
            20,
            ">20"
           ],
           [
            10306,
            10021,
            8058,
            5922,
            3932,
            2670,
            1723,
            1168,
            729,
            466,
            288,
            180,
            107,
            80,
            77,
            44,
            29,
            22,
            35,
            21,
            101
           ],
           [
            10306,
            20042,
            24174,
            23688,
            19660,
            16020,
            12061,
            9344,
            6561,
            4660,
            3168,
            2160,
            1391,
            1120,
            1155,
            704,
            493,
            396,
            665,
            420,
            3989
           ],
           [
            22.41,
            21.79,
            17.53,
            12.88,
            8.55,
            5.81,
            3.75,
            2.54,
            1.59,
            1.01,
            0.63,
            0.39,
            0.23,
            0.17,
            0.17,
            0.1,
            0.06,
            0.05,
            0.08,
            0.05,
            0.22
           ],
           [
            22.4,
            44.2,
            61.7,
            74.6,
            83.2,
            89,
            92.7,
            95.3,
            96.9,
            97.9,
            98.5,
            98.9,
            99.1,
            99.3,
            99.5,
            99.6,
            99.6,
            99.7,
            99.7,
            99.8,
            100
           ]
          ]
         },
         "header": {
          "align": [
           "left",
           "left",
           "left",
           "left",
           "left"
          ],
          "fill": {
           "color": "#C2D4FF"
          },
          "values": [
           "No. authors (unit)",
           "No. of publications",
           "No. of authors",
           "% of total publications",
           "Cum.(%) of total publications"
          ]
         },
         "type": "table",
         "uid": "cb52cdd0-db96-47bd-8f4c-253ee370fe96"
        }
       ],
       "layout": {}
      },
      "text/html": [
       "<div>\n",
       "        \n",
       "        \n",
       "            <div id=\"8a284c84-afeb-40cb-8616-8fbf6cb64e31\" class=\"plotly-graph-div\" style=\"height:525px; width:100%;\"></div>\n",
       "            <script type=\"text/javascript\">\n",
       "                require([\"plotly\"], function(Plotly) {\n",
       "                    window.PLOTLYENV=window.PLOTLYENV || {};\n",
       "                    window.PLOTLYENV.BASE_URL='https://plot.ly';\n",
       "                    \n",
       "                if (document.getElementById(\"8a284c84-afeb-40cb-8616-8fbf6cb64e31\")) {\n",
       "                    Plotly.newPlot(\n",
       "                        '8a284c84-afeb-40cb-8616-8fbf6cb64e31',\n",
       "                        [{\"cells\": {\"align\": [\"left\", \"left\", \"left\", \"left\", \"left\"], \"fill\": {\"color\": \"#F5F8FF\"}, \"values\": [[1, 2, 3, 4, 5, 6, 7, 8, 9, 10, 11, 12, 13, 14, 15, 16, 17, 18, 19, 20, \">20\"], [10306, 10021, 8058, 5922, 3932, 2670, 1723, 1168, 729, 466, 288, 180, 107, 80, 77, 44, 29, 22, 35, 21, 101], [10306, 20042, 24174, 23688, 19660, 16020, 12061, 9344, 6561, 4660, 3168, 2160, 1391, 1120, 1155, 704, 493, 396, 665, 420, 3989], [22.41, 21.79, 17.53, 12.88, 8.55, 5.81, 3.75, 2.54, 1.59, 1.01, 0.63, 0.39, 0.23, 0.17, 0.17, 0.1, 0.06, 0.05, 0.08, 0.05, 0.22], [22.4, 44.2, 61.7, 74.6, 83.2, 89.0, 92.7, 95.3, 96.9, 97.9, 98.5, 98.9, 99.1, 99.3, 99.5, 99.6, 99.6, 99.7, 99.7, 99.8, 100.0]]}, \"header\": {\"align\": [\"left\", \"left\", \"left\", \"left\", \"left\"], \"fill\": {\"color\": \"#C2D4FF\"}, \"values\": [\"No. authors (unit)\", \"No. of publications\", \"No. of authors\", \"% of total publications\", \"Cum.(%) of total publications\"]}, \"type\": \"table\", \"uid\": \"07fabccb-7889-4c83-b7e6-2ba4afb90a75\"}],\n",
       "                        {},\n",
       "                        {\"showLink\": false, \"linkText\": \"Export to plot.ly\", \"plotlyServerURL\": \"https://plot.ly\", \"responsive\": true}\n",
       "                    ).then(function(){\n",
       "                            \n",
       "var gd = document.getElementById('8a284c84-afeb-40cb-8616-8fbf6cb64e31');\n",
       "var x = new MutationObserver(function (mutations, observer) {{\n",
       "        var display = window.getComputedStyle(gd).display;\n",
       "        if (!display || display === 'none') {{\n",
       "            console.log([gd, 'removed!']);\n",
       "            Plotly.purge(gd);\n",
       "            observer.disconnect();\n",
       "        }}\n",
       "}});\n",
       "\n",
       "// Listen for the removal of the full notebook cells\n",
       "var notebookContainer = gd.closest('#notebook-container');\n",
       "if (notebookContainer) {{\n",
       "    x.observe(notebookContainer, {childList: true});\n",
       "}}\n",
       "\n",
       "// Listen for the clearing of the current output cell\n",
       "var outputEl = gd.closest('.output');\n",
       "if (outputEl) {{\n",
       "    x.observe(outputEl, {childList: true});\n",
       "}}\n",
       "\n",
       "                        })\n",
       "                };\n",
       "                });\n",
       "            </script>\n",
       "        </div>"
      ]
     },
     "metadata": {},
     "output_type": "display_data"
    },
    {
     "data": {
      "application/vnd.plotly.v1+json": {
       "config": {
        "linkText": "Export to plot.ly",
        "plotlyServerURL": "https://plot.ly",
        "responsive": true,
        "showLink": false
       },
       "data": [
        {
         "line": {
          "color": "rgba(255, 153, 51, 1.0)",
          "dash": "solid",
          "shape": "linear",
          "width": 1.3
         },
         "mode": "lines",
         "name": "% of total publications",
         "text": "",
         "type": "scatter",
         "uid": "95315c4f-93fa-48e2-8aaf-c92d0e5b0412",
         "x": [
          1,
          2,
          3,
          4,
          5,
          6,
          7,
          8,
          9,
          10,
          11,
          12,
          13,
          14,
          15,
          16,
          17,
          18,
          19,
          20,
          ">20"
         ],
         "y": [
          22.41,
          21.79,
          17.53,
          12.88,
          8.55,
          5.81,
          3.75,
          2.54,
          1.59,
          1.01,
          0.63,
          0.39,
          0.23,
          0.17,
          0.17,
          0.1,
          0.06,
          0.05,
          0.08,
          0.05,
          0.22
         ]
        }
       ],
       "layout": {
        "legend": {
         "bgcolor": "#F5F6F9",
         "font": {
          "color": "#4D5663"
         }
        },
        "paper_bgcolor": "#F5F6F9",
        "plot_bgcolor": "#F5F6F9",
        "title": {
         "font": {
          "color": "#4D5663"
         },
         "text": "Authorship Pattern"
        },
        "xaxis": {
         "gridcolor": "#E1E5ED",
         "showgrid": true,
         "tickfont": {
          "color": "#4D5663"
         },
         "title": {
          "font": {
           "color": "#4D5663"
          },
          "text": "No. of authors (unit)"
         },
         "zerolinecolor": "#E1E5ED"
        },
        "yaxis": {
         "gridcolor": "#E1E5ED",
         "showgrid": true,
         "tickfont": {
          "color": "#4D5663"
         },
         "title": {
          "font": {
           "color": "#4D5663"
          },
          "text": "(%) Publications"
         },
         "zerolinecolor": "#E1E5ED"
        }
       }
      },
      "text/html": [
       "<div>\n",
       "        \n",
       "        \n",
       "            <div id=\"79f17f5a-a3a6-419b-bdb3-7df4daefaf70\" class=\"plotly-graph-div\" style=\"height:525px; width:100%;\"></div>\n",
       "            <script type=\"text/javascript\">\n",
       "                require([\"plotly\"], function(Plotly) {\n",
       "                    window.PLOTLYENV=window.PLOTLYENV || {};\n",
       "                    window.PLOTLYENV.BASE_URL='https://plot.ly';\n",
       "                    \n",
       "                if (document.getElementById(\"79f17f5a-a3a6-419b-bdb3-7df4daefaf70\")) {\n",
       "                    Plotly.newPlot(\n",
       "                        '79f17f5a-a3a6-419b-bdb3-7df4daefaf70',\n",
       "                        [{\"line\": {\"color\": \"rgba(255, 153, 51, 1.0)\", \"dash\": \"solid\", \"shape\": \"linear\", \"width\": 1.3}, \"mode\": \"lines\", \"name\": \"% of total publications\", \"text\": \"\", \"type\": \"scatter\", \"uid\": \"cc1f15d4-a460-43c1-a24e-a75b07ba834d\", \"x\": [1, 2, 3, 4, 5, 6, 7, 8, 9, 10, 11, 12, 13, 14, 15, 16, 17, 18, 19, 20, \">20\"], \"y\": [22.41, 21.79, 17.53, 12.88, 8.55, 5.81, 3.75, 2.54, 1.59, 1.01, 0.63, 0.39, 0.23, 0.17, 0.17, 0.1, 0.06, 0.05, 0.08, 0.05, 0.22]}],\n",
       "                        {\"legend\": {\"bgcolor\": \"#F5F6F9\", \"font\": {\"color\": \"#4D5663\"}}, \"paper_bgcolor\": \"#F5F6F9\", \"plot_bgcolor\": \"#F5F6F9\", \"title\": {\"font\": {\"color\": \"#4D5663\"}, \"text\": \"Authorship Pattern\"}, \"xaxis\": {\"gridcolor\": \"#E1E5ED\", \"showgrid\": true, \"tickfont\": {\"color\": \"#4D5663\"}, \"title\": {\"font\": {\"color\": \"#4D5663\"}, \"text\": \"No. of authors (unit)\"}, \"zerolinecolor\": \"#E1E5ED\"}, \"yaxis\": {\"gridcolor\": \"#E1E5ED\", \"showgrid\": true, \"tickfont\": {\"color\": \"#4D5663\"}, \"title\": {\"font\": {\"color\": \"#4D5663\"}, \"text\": \"(%) Publications\"}, \"zerolinecolor\": \"#E1E5ED\"}},\n",
       "                        {\"showLink\": false, \"linkText\": \"Export to plot.ly\", \"plotlyServerURL\": \"https://plot.ly\", \"responsive\": true}\n",
       "                    ).then(function(){\n",
       "                            \n",
       "var gd = document.getElementById('79f17f5a-a3a6-419b-bdb3-7df4daefaf70');\n",
       "var x = new MutationObserver(function (mutations, observer) {{\n",
       "        var display = window.getComputedStyle(gd).display;\n",
       "        if (!display || display === 'none') {{\n",
       "            console.log([gd, 'removed!']);\n",
       "            Plotly.purge(gd);\n",
       "            observer.disconnect();\n",
       "        }}\n",
       "}});\n",
       "\n",
       "// Listen for the removal of the full notebook cells\n",
       "var notebookContainer = gd.closest('#notebook-container');\n",
       "if (notebookContainer) {{\n",
       "    x.observe(notebookContainer, {childList: true});\n",
       "}}\n",
       "\n",
       "// Listen for the clearing of the current output cell\n",
       "var outputEl = gd.closest('.output');\n",
       "if (outputEl) {{\n",
       "    x.observe(outputEl, {childList: true});\n",
       "}}\n",
       "\n",
       "                        })\n",
       "                };\n",
       "                });\n",
       "            </script>\n",
       "        </div>"
      ]
     },
     "metadata": {},
     "output_type": "display_data"
    }
   ],
   "source": [
    "# plot authorship pattern\n",
    "cutoff_unit = 20\n",
    "visual.plot_authorship_ptrn(cutoff_unit)"
   ]
  },
  {
   "cell_type": "code",
   "execution_count": 5,
   "metadata": {
    "scrolled": false
   },
   "outputs": [
    {
     "data": {
      "application/vnd.plotly.v1+json": {
       "config": {
        "linkText": "Export to plot.ly",
        "plotlyServerURL": "https://plot.ly",
        "responsive": true,
        "showLink": false
       },
       "data": [
        {
         "cells": {
          "align": [
           "left",
           "left",
           "left",
           "left",
           "left"
          ],
          "fill": {
           "color": "#F5F8FF"
          },
          "values": [
           [
            "1999",
            "2000",
            "2001",
            "2002",
            "2003",
            "2004",
            "2005",
            "2006",
            "2007",
            "2008",
            "2009",
            "2010",
            "2011",
            "2012",
            "2013",
            "2014",
            "2015",
            "2016",
            "2017",
            "2018"
           ],
           [
            189,
            204,
            206,
            217,
            224,
            234,
            252,
            243,
            294,
            334,
            404,
            391,
            362,
            355,
            356,
            397,
            337,
            364,
            121,
            0
           ],
           [
            666,
            735,
            717,
            764,
            879,
            937,
            1060,
            1115,
            1301,
            1459,
            1609,
            1851,
            1832,
            1810,
            2052,
            2179,
            2097,
            2048,
            918,
            2
           ],
           [
            855,
            939,
            923,
            981,
            1103,
            1171,
            1312,
            1358,
            1595,
            1793,
            2013,
            2242,
            2194,
            2165,
            2408,
            2576,
            2434,
            2412,
            1039,
            2
           ],
           [
            22.11,
            21.73,
            22.32,
            22.12,
            20.31,
            19.98,
            19.21,
            17.89,
            18.43,
            18.63,
            20.07,
            17.44,
            16.5,
            16.4,
            14.78,
            15.41,
            13.85,
            15.09,
            11.65,
            0
           ],
           [
            77.89,
            78.27,
            77.68,
            77.88,
            79.69,
            80.02,
            80.79,
            82.11,
            81.57,
            81.37,
            79.93,
            82.56,
            83.5,
            83.6,
            85.22,
            84.59,
            86.15,
            84.91,
            88.35,
            100
           ]
          ]
         },
         "header": {
          "align": [
           "left",
           "left",
           "left",
           "left",
           "left"
          ],
          "fill": {
           "color": "#C2D4FF"
          },
          "values": [
           "year",
           "Single authored",
           "Joint authored",
           "Total Publications",
           "% of Single authored publications",
           "% of Joint authored publications"
          ]
         },
         "type": "table",
         "uid": "25384155-ecfa-4659-a333-94b552f823d5"
        }
       ],
       "layout": {}
      },
      "text/html": [
       "<div>\n",
       "        \n",
       "        \n",
       "            <div id=\"c7a5e707-d605-45b3-a0e8-c6568188ced1\" class=\"plotly-graph-div\" style=\"height:525px; width:100%;\"></div>\n",
       "            <script type=\"text/javascript\">\n",
       "                require([\"plotly\"], function(Plotly) {\n",
       "                    window.PLOTLYENV=window.PLOTLYENV || {};\n",
       "                    window.PLOTLYENV.BASE_URL='https://plot.ly';\n",
       "                    \n",
       "                if (document.getElementById(\"c7a5e707-d605-45b3-a0e8-c6568188ced1\")) {\n",
       "                    Plotly.newPlot(\n",
       "                        'c7a5e707-d605-45b3-a0e8-c6568188ced1',\n",
       "                        [{\"cells\": {\"align\": [\"left\", \"left\", \"left\", \"left\", \"left\"], \"fill\": {\"color\": \"#F5F8FF\"}, \"values\": [[\"1999\", \"2000\", \"2001\", \"2002\", \"2003\", \"2004\", \"2005\", \"2006\", \"2007\", \"2008\", \"2009\", \"2010\", \"2011\", \"2012\", \"2013\", \"2014\", \"2015\", \"2016\", \"2017\", \"2018\"], [189, 204, 206, 217, 224, 234, 252, 243, 294, 334, 404, 391, 362, 355, 356, 397, 337, 364, 121, 0], [666, 735, 717, 764, 879, 937, 1060, 1115, 1301, 1459, 1609, 1851, 1832, 1810, 2052, 2179, 2097, 2048, 918, 2], [855, 939, 923, 981, 1103, 1171, 1312, 1358, 1595, 1793, 2013, 2242, 2194, 2165, 2408, 2576, 2434, 2412, 1039, 2], [22.11, 21.73, 22.32, 22.12, 20.31, 19.98, 19.21, 17.89, 18.43, 18.63, 20.07, 17.44, 16.5, 16.4, 14.78, 15.41, 13.85, 15.09, 11.65, 0.0], [77.89, 78.27, 77.68, 77.88, 79.69, 80.02, 80.79, 82.11, 81.57, 81.37, 79.93, 82.56, 83.5, 83.6, 85.22, 84.59, 86.15, 84.91, 88.35, 100.0]]}, \"header\": {\"align\": [\"left\", \"left\", \"left\", \"left\", \"left\"], \"fill\": {\"color\": \"#C2D4FF\"}, \"values\": [\"year\", \"Single authored\", \"Joint authored\", \"Total Publications\", \"% of Single authored publications\", \"% of Joint authored publications\"]}, \"type\": \"table\", \"uid\": \"32e4c51c-839b-4339-9a9c-6ba23ba247c2\"}],\n",
       "                        {},\n",
       "                        {\"showLink\": false, \"linkText\": \"Export to plot.ly\", \"plotlyServerURL\": \"https://plot.ly\", \"responsive\": true}\n",
       "                    ).then(function(){\n",
       "                            \n",
       "var gd = document.getElementById('c7a5e707-d605-45b3-a0e8-c6568188ced1');\n",
       "var x = new MutationObserver(function (mutations, observer) {{\n",
       "        var display = window.getComputedStyle(gd).display;\n",
       "        if (!display || display === 'none') {{\n",
       "            console.log([gd, 'removed!']);\n",
       "            Plotly.purge(gd);\n",
       "            observer.disconnect();\n",
       "        }}\n",
       "}});\n",
       "\n",
       "// Listen for the removal of the full notebook cells\n",
       "var notebookContainer = gd.closest('#notebook-container');\n",
       "if (notebookContainer) {{\n",
       "    x.observe(notebookContainer, {childList: true});\n",
       "}}\n",
       "\n",
       "// Listen for the clearing of the current output cell\n",
       "var outputEl = gd.closest('.output');\n",
       "if (outputEl) {{\n",
       "    x.observe(outputEl, {childList: true});\n",
       "}}\n",
       "\n",
       "                        })\n",
       "                };\n",
       "                });\n",
       "            </script>\n",
       "        </div>"
      ]
     },
     "metadata": {},
     "output_type": "display_data"
    },
    {
     "data": {
      "application/vnd.plotly.v1+json": {
       "config": {
        "linkText": "Export to plot.ly",
        "plotlyServerURL": "https://plot.ly",
        "responsive": true,
        "showLink": false
       },
       "data": [
        {
         "line": {
          "color": "rgba(255, 153, 51, 1.0)",
          "dash": "solid",
          "shape": "linear",
          "width": 1.3
         },
         "mode": "lines",
         "name": "Single authored",
         "text": "",
         "type": "scatter",
         "uid": "a48a68fd-512a-442b-9424-d9910594f594",
         "x": [
          "1999",
          "2000",
          "2001",
          "2002",
          "2003",
          "2004",
          "2005",
          "2006",
          "2007",
          "2008",
          "2009",
          "2010",
          "2011",
          "2012",
          "2013",
          "2014",
          "2015",
          "2016",
          "2017",
          "2018"
         ],
         "y": [
          189,
          204,
          206,
          217,
          224,
          234,
          252,
          243,
          294,
          334,
          404,
          391,
          362,
          355,
          356,
          397,
          337,
          364,
          121,
          0
         ]
        },
        {
         "line": {
          "color": "rgba(55, 128, 191, 1.0)",
          "dash": "solid",
          "shape": "linear",
          "width": 1.3
         },
         "mode": "lines",
         "name": "Joint authored",
         "text": "",
         "type": "scatter",
         "uid": "b2aab571-d351-440b-a529-de34c4b456a2",
         "x": [
          "1999",
          "2000",
          "2001",
          "2002",
          "2003",
          "2004",
          "2005",
          "2006",
          "2007",
          "2008",
          "2009",
          "2010",
          "2011",
          "2012",
          "2013",
          "2014",
          "2015",
          "2016",
          "2017",
          "2018"
         ],
         "y": [
          666,
          735,
          717,
          764,
          879,
          937,
          1060,
          1115,
          1301,
          1459,
          1609,
          1851,
          1832,
          1810,
          2052,
          2179,
          2097,
          2048,
          918,
          2
         ]
        }
       ],
       "layout": {
        "legend": {
         "bgcolor": "#F5F6F9",
         "font": {
          "color": "#4D5663"
         }
        },
        "paper_bgcolor": "#F5F6F9",
        "plot_bgcolor": "#F5F6F9",
        "title": {
         "font": {
          "color": "#4D5663"
         },
         "text": "Single Authored vs Co-Authored Publications from 1999 to 2018."
        },
        "xaxis": {
         "gridcolor": "#E1E5ED",
         "showgrid": true,
         "tickfont": {
          "color": "#4D5663"
         },
         "title": {
          "font": {
           "color": "#4D5663"
          },
          "text": "Years"
         },
         "zerolinecolor": "#E1E5ED"
        },
        "yaxis": {
         "gridcolor": "#E1E5ED",
         "showgrid": true,
         "tickfont": {
          "color": "#4D5663"
         },
         "title": {
          "font": {
           "color": "#4D5663"
          },
          "text": "Total Publications"
         },
         "zerolinecolor": "#E1E5ED"
        }
       }
      },
      "text/html": [
       "<div>\n",
       "        \n",
       "        \n",
       "            <div id=\"ae38a72f-d23a-48f9-b66d-ec0be3b228a7\" class=\"plotly-graph-div\" style=\"height:525px; width:100%;\"></div>\n",
       "            <script type=\"text/javascript\">\n",
       "                require([\"plotly\"], function(Plotly) {\n",
       "                    window.PLOTLYENV=window.PLOTLYENV || {};\n",
       "                    window.PLOTLYENV.BASE_URL='https://plot.ly';\n",
       "                    \n",
       "                if (document.getElementById(\"ae38a72f-d23a-48f9-b66d-ec0be3b228a7\")) {\n",
       "                    Plotly.newPlot(\n",
       "                        'ae38a72f-d23a-48f9-b66d-ec0be3b228a7',\n",
       "                        [{\"line\": {\"color\": \"rgba(255, 153, 51, 1.0)\", \"dash\": \"solid\", \"shape\": \"linear\", \"width\": 1.3}, \"mode\": \"lines\", \"name\": \"Single authored\", \"text\": \"\", \"type\": \"scatter\", \"uid\": \"2700d405-5dd2-45ed-9130-8ed30927cb3a\", \"x\": [\"1999\", \"2000\", \"2001\", \"2002\", \"2003\", \"2004\", \"2005\", \"2006\", \"2007\", \"2008\", \"2009\", \"2010\", \"2011\", \"2012\", \"2013\", \"2014\", \"2015\", \"2016\", \"2017\", \"2018\"], \"y\": [189, 204, 206, 217, 224, 234, 252, 243, 294, 334, 404, 391, 362, 355, 356, 397, 337, 364, 121, 0]}, {\"line\": {\"color\": \"rgba(55, 128, 191, 1.0)\", \"dash\": \"solid\", \"shape\": \"linear\", \"width\": 1.3}, \"mode\": \"lines\", \"name\": \"Joint authored\", \"text\": \"\", \"type\": \"scatter\", \"uid\": \"ad95695c-a3d5-4816-8e37-93e0f76a416a\", \"x\": [\"1999\", \"2000\", \"2001\", \"2002\", \"2003\", \"2004\", \"2005\", \"2006\", \"2007\", \"2008\", \"2009\", \"2010\", \"2011\", \"2012\", \"2013\", \"2014\", \"2015\", \"2016\", \"2017\", \"2018\"], \"y\": [666, 735, 717, 764, 879, 937, 1060, 1115, 1301, 1459, 1609, 1851, 1832, 1810, 2052, 2179, 2097, 2048, 918, 2]}],\n",
       "                        {\"legend\": {\"bgcolor\": \"#F5F6F9\", \"font\": {\"color\": \"#4D5663\"}}, \"paper_bgcolor\": \"#F5F6F9\", \"plot_bgcolor\": \"#F5F6F9\", \"title\": {\"font\": {\"color\": \"#4D5663\"}, \"text\": \"Single Authored vs Co-Authored Publications from 1999 to 2018.\"}, \"xaxis\": {\"gridcolor\": \"#E1E5ED\", \"showgrid\": true, \"tickfont\": {\"color\": \"#4D5663\"}, \"title\": {\"font\": {\"color\": \"#4D5663\"}, \"text\": \"Years\"}, \"zerolinecolor\": \"#E1E5ED\"}, \"yaxis\": {\"gridcolor\": \"#E1E5ED\", \"showgrid\": true, \"tickfont\": {\"color\": \"#4D5663\"}, \"title\": {\"font\": {\"color\": \"#4D5663\"}, \"text\": \"Total Publications\"}, \"zerolinecolor\": \"#E1E5ED\"}},\n",
       "                        {\"showLink\": false, \"linkText\": \"Export to plot.ly\", \"plotlyServerURL\": \"https://plot.ly\", \"responsive\": true}\n",
       "                    ).then(function(){\n",
       "                            \n",
       "var gd = document.getElementById('ae38a72f-d23a-48f9-b66d-ec0be3b228a7');\n",
       "var x = new MutationObserver(function (mutations, observer) {{\n",
       "        var display = window.getComputedStyle(gd).display;\n",
       "        if (!display || display === 'none') {{\n",
       "            console.log([gd, 'removed!']);\n",
       "            Plotly.purge(gd);\n",
       "            observer.disconnect();\n",
       "        }}\n",
       "}});\n",
       "\n",
       "// Listen for the removal of the full notebook cells\n",
       "var notebookContainer = gd.closest('#notebook-container');\n",
       "if (notebookContainer) {{\n",
       "    x.observe(notebookContainer, {childList: true});\n",
       "}}\n",
       "\n",
       "// Listen for the clearing of the current output cell\n",
       "var outputEl = gd.closest('.output');\n",
       "if (outputEl) {{\n",
       "    x.observe(outputEl, {childList: true});\n",
       "}}\n",
       "\n",
       "                        })\n",
       "                };\n",
       "                });\n",
       "            </script>\n",
       "        </div>"
      ]
     },
     "metadata": {},
     "output_type": "display_data"
    },
    {
     "data": {
      "application/vnd.plotly.v1+json": {
       "config": {
        "linkText": "Export to plot.ly",
        "plotlyServerURL": "https://plot.ly",
        "responsive": true,
        "showLink": false
       },
       "data": [
        {
         "line": {
          "color": "rgba(255, 153, 51, 1.0)",
          "dash": "solid",
          "shape": "linear",
          "width": 1.3
         },
         "mode": "lines",
         "name": "% of Single authored publications",
         "text": "",
         "type": "scatter",
         "uid": "a4a1b4d7-322a-4de5-b537-73f249a5cece",
         "x": [
          "1999",
          "2000",
          "2001",
          "2002",
          "2003",
          "2004",
          "2005",
          "2006",
          "2007",
          "2008",
          "2009",
          "2010",
          "2011",
          "2012",
          "2013",
          "2014",
          "2015",
          "2016",
          "2017",
          "2018"
         ],
         "y": [
          22.11,
          21.73,
          22.32,
          22.12,
          20.31,
          19.98,
          19.21,
          17.89,
          18.43,
          18.63,
          20.07,
          17.44,
          16.5,
          16.4,
          14.78,
          15.41,
          13.85,
          15.09,
          11.65,
          0
         ]
        },
        {
         "line": {
          "color": "rgba(55, 128, 191, 1.0)",
          "dash": "solid",
          "shape": "linear",
          "width": 1.3
         },
         "mode": "lines",
         "name": "% of Joint authored publications",
         "text": "",
         "type": "scatter",
         "uid": "45ce61f0-ac8b-411a-b84e-dc6a5b0bc5db",
         "x": [
          "1999",
          "2000",
          "2001",
          "2002",
          "2003",
          "2004",
          "2005",
          "2006",
          "2007",
          "2008",
          "2009",
          "2010",
          "2011",
          "2012",
          "2013",
          "2014",
          "2015",
          "2016",
          "2017",
          "2018"
         ],
         "y": [
          77.89,
          78.27,
          77.68,
          77.88,
          79.69,
          80.02,
          80.79,
          82.11,
          81.57,
          81.37,
          79.93,
          82.56,
          83.5,
          83.6,
          85.22,
          84.59,
          86.15,
          84.91,
          88.35,
          100
         ]
        }
       ],
       "layout": {
        "legend": {
         "bgcolor": "#F5F6F9",
         "font": {
          "color": "#4D5663"
         }
        },
        "paper_bgcolor": "#F5F6F9",
        "plot_bgcolor": "#F5F6F9",
        "title": {
         "font": {
          "color": "#4D5663"
         },
         "text": "Single Authored vs Co-Authored Publications from 1999 to 2018."
        },
        "xaxis": {
         "gridcolor": "#E1E5ED",
         "showgrid": true,
         "tickfont": {
          "color": "#4D5663"
         },
         "title": {
          "font": {
           "color": "#4D5663"
          },
          "text": "Years"
         },
         "zerolinecolor": "#E1E5ED"
        },
        "yaxis": {
         "gridcolor": "#E1E5ED",
         "showgrid": true,
         "tickfont": {
          "color": "#4D5663"
         },
         "title": {
          "font": {
           "color": "#4D5663"
          },
          "text": "(%) Publications"
         },
         "zerolinecolor": "#E1E5ED"
        }
       }
      },
      "text/html": [
       "<div>\n",
       "        \n",
       "        \n",
       "            <div id=\"02cd93cc-9c23-4a07-83a8-09cb025c4689\" class=\"plotly-graph-div\" style=\"height:525px; width:100%;\"></div>\n",
       "            <script type=\"text/javascript\">\n",
       "                require([\"plotly\"], function(Plotly) {\n",
       "                    window.PLOTLYENV=window.PLOTLYENV || {};\n",
       "                    window.PLOTLYENV.BASE_URL='https://plot.ly';\n",
       "                    \n",
       "                if (document.getElementById(\"02cd93cc-9c23-4a07-83a8-09cb025c4689\")) {\n",
       "                    Plotly.newPlot(\n",
       "                        '02cd93cc-9c23-4a07-83a8-09cb025c4689',\n",
       "                        [{\"line\": {\"color\": \"rgba(255, 153, 51, 1.0)\", \"dash\": \"solid\", \"shape\": \"linear\", \"width\": 1.3}, \"mode\": \"lines\", \"name\": \"% of Single authored publications\", \"text\": \"\", \"type\": \"scatter\", \"uid\": \"89bc4acd-6e74-4cda-8977-a825f16eab3a\", \"x\": [\"1999\", \"2000\", \"2001\", \"2002\", \"2003\", \"2004\", \"2005\", \"2006\", \"2007\", \"2008\", \"2009\", \"2010\", \"2011\", \"2012\", \"2013\", \"2014\", \"2015\", \"2016\", \"2017\", \"2018\"], \"y\": [22.11, 21.73, 22.32, 22.12, 20.31, 19.98, 19.21, 17.89, 18.43, 18.63, 20.07, 17.44, 16.5, 16.4, 14.78, 15.41, 13.85, 15.09, 11.65, 0.0]}, {\"line\": {\"color\": \"rgba(55, 128, 191, 1.0)\", \"dash\": \"solid\", \"shape\": \"linear\", \"width\": 1.3}, \"mode\": \"lines\", \"name\": \"% of Joint authored publications\", \"text\": \"\", \"type\": \"scatter\", \"uid\": \"88bdd229-2b09-48f9-a0de-ffb78b2d1f56\", \"x\": [\"1999\", \"2000\", \"2001\", \"2002\", \"2003\", \"2004\", \"2005\", \"2006\", \"2007\", \"2008\", \"2009\", \"2010\", \"2011\", \"2012\", \"2013\", \"2014\", \"2015\", \"2016\", \"2017\", \"2018\"], \"y\": [77.89, 78.27, 77.68, 77.88, 79.69, 80.02, 80.79, 82.11, 81.57, 81.37, 79.93, 82.56, 83.5, 83.6, 85.22, 84.59, 86.15, 84.91, 88.35, 100.0]}],\n",
       "                        {\"legend\": {\"bgcolor\": \"#F5F6F9\", \"font\": {\"color\": \"#4D5663\"}}, \"paper_bgcolor\": \"#F5F6F9\", \"plot_bgcolor\": \"#F5F6F9\", \"title\": {\"font\": {\"color\": \"#4D5663\"}, \"text\": \"Single Authored vs Co-Authored Publications from 1999 to 2018.\"}, \"xaxis\": {\"gridcolor\": \"#E1E5ED\", \"showgrid\": true, \"tickfont\": {\"color\": \"#4D5663\"}, \"title\": {\"font\": {\"color\": \"#4D5663\"}, \"text\": \"Years\"}, \"zerolinecolor\": \"#E1E5ED\"}, \"yaxis\": {\"gridcolor\": \"#E1E5ED\", \"showgrid\": true, \"tickfont\": {\"color\": \"#4D5663\"}, \"title\": {\"font\": {\"color\": \"#4D5663\"}, \"text\": \"(%) Publications\"}, \"zerolinecolor\": \"#E1E5ED\"}},\n",
       "                        {\"showLink\": false, \"linkText\": \"Export to plot.ly\", \"plotlyServerURL\": \"https://plot.ly\", \"responsive\": true}\n",
       "                    ).then(function(){\n",
       "                            \n",
       "var gd = document.getElementById('02cd93cc-9c23-4a07-83a8-09cb025c4689');\n",
       "var x = new MutationObserver(function (mutations, observer) {{\n",
       "        var display = window.getComputedStyle(gd).display;\n",
       "        if (!display || display === 'none') {{\n",
       "            console.log([gd, 'removed!']);\n",
       "            Plotly.purge(gd);\n",
       "            observer.disconnect();\n",
       "        }}\n",
       "}});\n",
       "\n",
       "// Listen for the removal of the full notebook cells\n",
       "var notebookContainer = gd.closest('#notebook-container');\n",
       "if (notebookContainer) {{\n",
       "    x.observe(notebookContainer, {childList: true});\n",
       "}}\n",
       "\n",
       "// Listen for the clearing of the current output cell\n",
       "var outputEl = gd.closest('.output');\n",
       "if (outputEl) {{\n",
       "    x.observe(outputEl, {childList: true});\n",
       "}}\n",
       "\n",
       "                        })\n",
       "                };\n",
       "                });\n",
       "            </script>\n",
       "        </div>"
      ]
     },
     "metadata": {},
     "output_type": "display_data"
    }
   ],
   "source": [
    "# plot year-wise distribution single author vs co-authored \n",
    "n_years = 20\n",
    "visual.plot_yr_dist(years=n_years)"
   ]
  },
  {
   "cell_type": "code",
   "execution_count": 6,
   "metadata": {},
   "outputs": [
    {
     "data": {
      "application/vnd.plotly.v1+json": {
       "config": {
        "linkText": "Export to plot.ly",
        "plotlyServerURL": "https://plot.ly",
        "responsive": true,
        "showLink": false
       },
       "data": [
        {
         "cells": {
          "align": [
           "left",
           "left",
           "left",
           "left",
           "left"
          ],
          "fill": {
           "color": "#F5F8FF"
          },
          "values": [
           [
            "1999",
            "2000",
            "2001",
            "2002",
            "2003",
            "2004",
            "2005",
            "2006",
            "2007",
            "2008",
            "2009",
            "2010",
            "2011",
            "2012",
            "2013",
            "2014",
            "2015",
            "2016",
            "2017",
            "2018"
           ],
           [
            855,
            939,
            923,
            981,
            1103,
            1171,
            1312,
            1358,
            1595,
            1793,
            2013,
            2242,
            2194,
            2165,
            2408,
            2576,
            2434,
            2412,
            1039,
            2
           ],
           [
            2805,
            3085,
            3209,
            3466,
            4011,
            4368,
            4657,
            4972,
            6145,
            6989,
            7375,
            8575,
            8935,
            8729,
            9817,
            10817,
            10501,
            10394,
            5001,
            7
           ],
           [
            3.28,
            3.29,
            3.48,
            3.53,
            3.64,
            3.73,
            3.55,
            3.66,
            3.85,
            3.9,
            3.66,
            3.82,
            4.07,
            4.03,
            4.08,
            4.2,
            4.31,
            4.31,
            4.81,
            3.5
           ]
          ]
         },
         "header": {
          "align": [
           "left",
           "left",
           "left",
           "left",
           "left"
          ],
          "fill": {
           "color": "#C2D4FF"
          },
          "values": [
           "year",
           "Total no. of papers (P)",
           "Total no. of authorship (A)",
           "Avg. no of authors per paper (AAP = A/P)"
          ]
         },
         "type": "table",
         "uid": "0cf78fac-2820-410a-9a5f-5516c6f71a9b"
        }
       ],
       "layout": {
        "height": 700,
        "width": 800
       }
      },
      "text/html": [
       "<div>\n",
       "        \n",
       "        \n",
       "            <div id=\"f4fb7c14-5b57-4c50-81e8-c3bbea8d7e5d\" class=\"plotly-graph-div\" style=\"height:700px; width:800px;\"></div>\n",
       "            <script type=\"text/javascript\">\n",
       "                require([\"plotly\"], function(Plotly) {\n",
       "                    window.PLOTLYENV=window.PLOTLYENV || {};\n",
       "                    window.PLOTLYENV.BASE_URL='https://plot.ly';\n",
       "                    \n",
       "                if (document.getElementById(\"f4fb7c14-5b57-4c50-81e8-c3bbea8d7e5d\")) {\n",
       "                    Plotly.newPlot(\n",
       "                        'f4fb7c14-5b57-4c50-81e8-c3bbea8d7e5d',\n",
       "                        [{\"cells\": {\"align\": [\"left\", \"left\", \"left\", \"left\", \"left\"], \"fill\": {\"color\": \"#F5F8FF\"}, \"values\": [[\"1999\", \"2000\", \"2001\", \"2002\", \"2003\", \"2004\", \"2005\", \"2006\", \"2007\", \"2008\", \"2009\", \"2010\", \"2011\", \"2012\", \"2013\", \"2014\", \"2015\", \"2016\", \"2017\", \"2018\"], [855, 939, 923, 981, 1103, 1171, 1312, 1358, 1595, 1793, 2013, 2242, 2194, 2165, 2408, 2576, 2434, 2412, 1039, 2], [2805, 3085, 3209, 3466, 4011, 4368, 4657, 4972, 6145, 6989, 7375, 8575, 8935, 8729, 9817, 10817, 10501, 10394, 5001, 7], [3.28, 3.29, 3.48, 3.53, 3.64, 3.73, 3.55, 3.66, 3.85, 3.9, 3.66, 3.82, 4.07, 4.03, 4.08, 4.2, 4.31, 4.31, 4.81, 3.5]]}, \"header\": {\"align\": [\"left\", \"left\", \"left\", \"left\", \"left\"], \"fill\": {\"color\": \"#C2D4FF\"}, \"values\": [\"year\", \"Total no. of papers (P)\", \"Total no. of authorship (A)\", \"Avg. no of authors per paper (AAP = A/P)\"]}, \"type\": \"table\", \"uid\": \"9de743fa-1c08-42ab-807e-139e524bdce8\"}],\n",
       "                        {\"height\": 700, \"width\": 800},\n",
       "                        {\"showLink\": false, \"linkText\": \"Export to plot.ly\", \"plotlyServerURL\": \"https://plot.ly\", \"responsive\": true}\n",
       "                    ).then(function(){\n",
       "                            \n",
       "var gd = document.getElementById('f4fb7c14-5b57-4c50-81e8-c3bbea8d7e5d');\n",
       "var x = new MutationObserver(function (mutations, observer) {{\n",
       "        var display = window.getComputedStyle(gd).display;\n",
       "        if (!display || display === 'none') {{\n",
       "            console.log([gd, 'removed!']);\n",
       "            Plotly.purge(gd);\n",
       "            observer.disconnect();\n",
       "        }}\n",
       "}});\n",
       "\n",
       "// Listen for the removal of the full notebook cells\n",
       "var notebookContainer = gd.closest('#notebook-container');\n",
       "if (notebookContainer) {{\n",
       "    x.observe(notebookContainer, {childList: true});\n",
       "}}\n",
       "\n",
       "// Listen for the clearing of the current output cell\n",
       "var outputEl = gd.closest('.output');\n",
       "if (outputEl) {{\n",
       "    x.observe(outputEl, {childList: true});\n",
       "}}\n",
       "\n",
       "                        })\n",
       "                };\n",
       "                });\n",
       "            </script>\n",
       "        </div>"
      ]
     },
     "metadata": {},
     "output_type": "display_data"
    },
    {
     "data": {
      "application/vnd.plotly.v1+json": {
       "config": {
        "linkText": "Export to plot.ly",
        "plotlyServerURL": "https://plot.ly",
        "responsive": true,
        "showLink": false
       },
       "data": [
        {
         "line": {
          "color": "rgba(255, 153, 51, 1.0)",
          "dash": "solid",
          "shape": "linear",
          "width": 1.3
         },
         "mode": "lines",
         "name": "Avg. no of authors per paper (AAP = A/P)",
         "text": "",
         "type": "scatter",
         "uid": "140d942b-25cd-434d-805c-62042a92bb97",
         "x": [
          "1999",
          "2000",
          "2001",
          "2002",
          "2003",
          "2004",
          "2005",
          "2006",
          "2007",
          "2008",
          "2009",
          "2010",
          "2011",
          "2012",
          "2013",
          "2014",
          "2015",
          "2016",
          "2017",
          "2018"
         ],
         "y": [
          3.28,
          3.29,
          3.48,
          3.53,
          3.64,
          3.73,
          3.55,
          3.66,
          3.85,
          3.9,
          3.66,
          3.82,
          4.07,
          4.03,
          4.08,
          4.2,
          4.31,
          4.31,
          4.81,
          3.5
         ]
        }
       ],
       "layout": {
        "legend": {
         "bgcolor": "#F5F6F9",
         "font": {
          "color": "#4D5663"
         }
        },
        "paper_bgcolor": "#F5F6F9",
        "plot_bgcolor": "#F5F6F9",
        "title": {
         "font": {
          "color": "#4D5663"
         },
         "text": "Avg. Number of Authors per Paper (AAP) from 1999 to 2018."
        },
        "xaxis": {
         "gridcolor": "#E1E5ED",
         "showgrid": true,
         "tickfont": {
          "color": "#4D5663"
         },
         "title": {
          "font": {
           "color": "#4D5663"
          },
          "text": "Years"
         },
         "zerolinecolor": "#E1E5ED"
        },
        "yaxis": {
         "gridcolor": "#E1E5ED",
         "showgrid": true,
         "tickfont": {
          "color": "#4D5663"
         },
         "title": {
          "font": {
           "color": "#4D5663"
          },
          "text": "AAP"
         },
         "zerolinecolor": "#E1E5ED"
        }
       }
      },
      "text/html": [
       "<div>\n",
       "        \n",
       "        \n",
       "            <div id=\"fd27e52f-8913-489c-ae26-8fb5e17287a5\" class=\"plotly-graph-div\" style=\"height:525px; width:100%;\"></div>\n",
       "            <script type=\"text/javascript\">\n",
       "                require([\"plotly\"], function(Plotly) {\n",
       "                    window.PLOTLYENV=window.PLOTLYENV || {};\n",
       "                    window.PLOTLYENV.BASE_URL='https://plot.ly';\n",
       "                    \n",
       "                if (document.getElementById(\"fd27e52f-8913-489c-ae26-8fb5e17287a5\")) {\n",
       "                    Plotly.newPlot(\n",
       "                        'fd27e52f-8913-489c-ae26-8fb5e17287a5',\n",
       "                        [{\"line\": {\"color\": \"rgba(255, 153, 51, 1.0)\", \"dash\": \"solid\", \"shape\": \"linear\", \"width\": 1.3}, \"mode\": \"lines\", \"name\": \"Avg. no of authors per paper (AAP = A/P)\", \"text\": \"\", \"type\": \"scatter\", \"uid\": \"9b02bab6-a1a7-4be5-9f68-b82c71ba7744\", \"x\": [\"1999\", \"2000\", \"2001\", \"2002\", \"2003\", \"2004\", \"2005\", \"2006\", \"2007\", \"2008\", \"2009\", \"2010\", \"2011\", \"2012\", \"2013\", \"2014\", \"2015\", \"2016\", \"2017\", \"2018\"], \"y\": [3.28, 3.29, 3.48, 3.53, 3.64, 3.73, 3.55, 3.66, 3.85, 3.9, 3.66, 3.82, 4.07, 4.03, 4.08, 4.2, 4.31, 4.31, 4.81, 3.5]}],\n",
       "                        {\"legend\": {\"bgcolor\": \"#F5F6F9\", \"font\": {\"color\": \"#4D5663\"}}, \"paper_bgcolor\": \"#F5F6F9\", \"plot_bgcolor\": \"#F5F6F9\", \"title\": {\"font\": {\"color\": \"#4D5663\"}, \"text\": \"Avg. Number of Authors per Paper (AAP) from 1999 to 2018.\"}, \"xaxis\": {\"gridcolor\": \"#E1E5ED\", \"showgrid\": true, \"tickfont\": {\"color\": \"#4D5663\"}, \"title\": {\"font\": {\"color\": \"#4D5663\"}, \"text\": \"Years\"}, \"zerolinecolor\": \"#E1E5ED\"}, \"yaxis\": {\"gridcolor\": \"#E1E5ED\", \"showgrid\": true, \"tickfont\": {\"color\": \"#4D5663\"}, \"title\": {\"font\": {\"color\": \"#4D5663\"}, \"text\": \"AAP\"}, \"zerolinecolor\": \"#E1E5ED\"}},\n",
       "                        {\"showLink\": false, \"linkText\": \"Export to plot.ly\", \"plotlyServerURL\": \"https://plot.ly\", \"responsive\": true}\n",
       "                    ).then(function(){\n",
       "                            \n",
       "var gd = document.getElementById('fd27e52f-8913-489c-ae26-8fb5e17287a5');\n",
       "var x = new MutationObserver(function (mutations, observer) {{\n",
       "        var display = window.getComputedStyle(gd).display;\n",
       "        if (!display || display === 'none') {{\n",
       "            console.log([gd, 'removed!']);\n",
       "            Plotly.purge(gd);\n",
       "            observer.disconnect();\n",
       "        }}\n",
       "}});\n",
       "\n",
       "// Listen for the removal of the full notebook cells\n",
       "var notebookContainer = gd.closest('#notebook-container');\n",
       "if (notebookContainer) {{\n",
       "    x.observe(notebookContainer, {childList: true});\n",
       "}}\n",
       "\n",
       "// Listen for the clearing of the current output cell\n",
       "var outputEl = gd.closest('.output');\n",
       "if (outputEl) {{\n",
       "    x.observe(outputEl, {childList: true});\n",
       "}}\n",
       "\n",
       "                        })\n",
       "                };\n",
       "                });\n",
       "            </script>\n",
       "        </div>"
      ]
     },
     "metadata": {},
     "output_type": "display_data"
    }
   ],
   "source": [
    "# plot avg number of authors per paper (AAP)\n",
    "visual.plot_aap(years=n_years)"
   ]
  }
 ],
 "metadata": {
  "kernelspec": {
   "display_name": "Python [conda env:ics5114] *",
   "language": "python",
   "name": "conda-env-ics5114-py"
  },
  "language_info": {
   "codemirror_mode": {
    "name": "ipython",
    "version": 3
   },
   "file_extension": ".py",
   "mimetype": "text/x-python",
   "name": "python",
   "nbconvert_exporter": "python",
   "pygments_lexer": "ipython3",
   "version": "3.7.3"
  }
 },
 "nbformat": 4,
 "nbformat_minor": 2
}
