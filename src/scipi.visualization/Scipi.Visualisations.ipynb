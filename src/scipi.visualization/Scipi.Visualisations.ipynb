{
 "cells": [
  {
   "cell_type": "markdown",
   "metadata": {},
   "source": [
    "### Big Data Processing\n",
    "# SciPi: Scientific Publication Analytics Prototype\n",
    "\n",
    "<hr>\n",
    "\n",
    "For further details visit our GitHub Repository: https://github.com/achmand/SciPi"
   ]
  },
  {
   "cell_type": "code",
   "execution_count": 1,
   "metadata": {},
   "outputs": [
    {
     "data": {
      "text/html": [
       "        <script type=\"text/javascript\">\n",
       "        window.PlotlyConfig = {MathJaxConfig: 'local'};\n",
       "        if (window.MathJax) {MathJax.Hub.Config({SVG: {font: \"STIX-Web\"}});}\n",
       "        if (typeof require !== 'undefined') {\n",
       "        require.undef(\"plotly\");\n",
       "        requirejs.config({\n",
       "            paths: {\n",
       "                'plotly': ['https://cdn.plot.ly/plotly-latest.min']\n",
       "            }\n",
       "        });\n",
       "        require(['plotly'], function(Plotly) {\n",
       "            window._Plotly = Plotly;\n",
       "        });\n",
       "        }\n",
       "        </script>\n",
       "        "
      ]
     },
     "metadata": {},
     "output_type": "display_data"
    }
   ],
   "source": [
    "# importing libraries \n",
    "import pandas as pd\n",
    "from visualisations import ScipiVisual "
   ]
  },
  {
   "cell_type": "code",
   "execution_count": 2,
   "metadata": {},
   "outputs": [],
   "source": [
    "# initialize a new instance for ScipiVisual & set environment \n",
    "cassandra_points = [\"localhost\"] # set points for cassandra cluster \n",
    "\n",
    "# IMPORTANT SET UP PATH TO SCIPI HERE  \n",
    "scipi_path = \"/home/delinvas/repos/SciPi\"\n",
    "\n",
    "# initialize a new instance of ScipiVisual (for local execution)\n",
    "visual = ScipiVisual(cassandra_points=cassandra_points,\n",
    "                     scipi_path=scipi_path,\n",
    "                     is_local=True) \n",
    "\n",
    "# initialize a new instance of ScipiVisual (for cloud execution)\n",
    "# visual = ScipiVisual(cassandra_points=cassandra_points,\n",
    "#                      scipi_path=scipi_path,\n",
    "#                      is_local=False) \n",
    "\n",
    "# set setup for community plots \n",
    "community_colors = [\"red\", \"green\", \"blue\"]"
   ]
  },
  {
   "cell_type": "markdown",
   "metadata": {},
   "source": [
    "## Topics in Publications Network"
   ]
  },
  {
   "cell_type": "code",
   "execution_count": 3,
   "metadata": {},
   "outputs": [
    {
     "name": "stdout",
     "output_type": "stream",
     "text": [
      "Executing /home/delinvas/repos/SciPi/src/scripts/local_flink_topics.sh\n",
      "Top 100 Major Keywords\n"
     ]
    },
    {
     "data": {
      "application/vnd.plotly.v1+json": {
       "config": {
        "linkText": "Export to plot.ly",
        "plotlyServerURL": "https://plot.ly",
        "responsive": true,
        "showLink": false
       },
       "data": [
        {
         "cells": {
          "align": [
           "left",
           "left",
           "left",
           "left",
           "left"
          ],
          "fill": {
           "color": "#F5F8FF"
          },
          "values": [
           [
            "encephale pathologie",
            "cinetica",
            "remote sensing",
            "silica",
            "probability",
            "electrical properties",
            "research methodology",
            "heat transfer",
            "population",
            "time factors",
            "behavior",
            "lasers",
            "environment",
            "china",
            "brain vertebrata",
            "metal transition compose",
            "prevencion",
            "management",
            "propriete mecanique",
            "carbon dioxide",
            "mechanical property",
            "image processing",
            "indexing terms",
            "diabetes mellitus",
            "phosphorus",
            "production",
            "numerical analysis",
            "cinetique",
            "tumor",
            "time dependent",
            "lipids",
            "preparacion",
            "developing countries",
            "classification",
            "diabetes",
            "cell proliferation",
            "mathematical models",
            "international",
            "ultrasound",
            "development",
            "diffusion",
            "expresion genetica",
            "carbon",
            "expression genique",
            "chemical analysis",
            "appareil urinaire pathologie",
            "proteina",
            "potassium",
            "websearch",
            "artiodactyla",
            "insecta",
            "high resolution",
            "frequency",
            "monocotyledones",
            "quality of life",
            "single crystal",
            "hydrogen",
            "adulte",
            "scientific",
            "cell cycle",
            "hydrolases",
            "finite element method",
            "quantum mechanics",
            "proteine",
            "optical properties",
            "data analysis",
            "ungulata",
            "preparation",
            "infrared",
            "vaisseau sanguin pathologie",
            "zinc",
            "piel patologia",
            "morfologia",
            "cognition",
            "phase transition",
            "evaluacion prestacion",
            "electric field",
            "nickel",
            "growth",
            "conference proceedings",
            "heart",
            "simulacion numerica",
            "actividad biologica",
            "activite biologique",
            "monitoring",
            "factor riesgo",
            "facteur risque",
            "evaluation",
            "estudio teorico",
            "infections",
            "neural network",
            "thallophyta",
            "endocrinopathie",
            "endocrinopatia",
            "endocrinopathy",
            "modelo",
            "adulto",
            "seasonality",
            "signal processing",
            "inflammation"
           ],
           [
            100,
            100,
            100,
            100,
            100,
            100,
            102,
            102,
            102,
            102,
            102,
            102,
            102,
            102,
            103,
            103,
            103,
            103,
            103,
            104,
            104,
            104,
            104,
            104,
            105,
            105,
            105,
            105,
            105,
            105,
            106,
            106,
            106,
            106,
            106,
            107,
            107,
            107,
            107,
            107,
            107,
            108,
            108,
            108,
            108,
            108,
            109,
            109,
            109,
            109,
            109,
            110,
            110,
            110,
            110,
            110,
            110,
            111,
            111,
            111,
            111,
            112,
            112,
            112,
            114,
            114,
            114,
            115,
            115,
            116,
            116,
            116,
            116,
            116,
            116,
            117,
            117,
            117,
            117,
            118,
            118,
            118,
            119,
            119,
            119,
            119,
            119,
            120,
            120,
            120,
            120,
            121,
            121,
            121,
            121,
            122,
            122,
            122,
            123,
            123
           ]
          ]
         },
         "header": {
          "align": [
           "left",
           "left",
           "left",
           "left",
           "left"
          ],
          "fill": {
           "color": "#C2D4FF"
          },
          "values": [
           "Keyword",
           "Count"
          ]
         },
         "type": "table",
         "uid": "10266f7e-50ba-4cd7-b0b1-c14681b471a9"
        }
       ],
       "layout": {
        "height": 700,
        "width": 900
       }
      },
      "text/html": [
       "<div>\n",
       "        \n",
       "        \n",
       "            <div id=\"7c6bc282-73b1-422f-8d88-744d6ded8bc7\" class=\"plotly-graph-div\" style=\"height:700px; width:900px;\"></div>\n",
       "            <script type=\"text/javascript\">\n",
       "                require([\"plotly\"], function(Plotly) {\n",
       "                    window.PLOTLYENV=window.PLOTLYENV || {};\n",
       "                    window.PLOTLYENV.BASE_URL='https://plot.ly';\n",
       "                    \n",
       "                if (document.getElementById(\"7c6bc282-73b1-422f-8d88-744d6ded8bc7\")) {\n",
       "                    Plotly.newPlot(\n",
       "                        '7c6bc282-73b1-422f-8d88-744d6ded8bc7',\n",
       "                        [{\"cells\": {\"align\": [\"left\", \"left\", \"left\", \"left\", \"left\"], \"fill\": {\"color\": \"#F5F8FF\"}, \"values\": [[\"encephale pathologie\", \"cinetica\", \"remote sensing\", \"silica\", \"probability\", \"electrical properties\", \"research methodology\", \"heat transfer\", \"population\", \"time factors\", \"behavior\", \"lasers\", \"environment\", \"china\", \"brain vertebrata\", \"metal transition compose\", \"prevencion\", \"management\", \"propriete mecanique\", \"carbon dioxide\", \"mechanical property\", \"image processing\", \"indexing terms\", \"diabetes mellitus\", \"phosphorus\", \"production\", \"numerical analysis\", \"cinetique\", \"tumor\", \"time dependent\", \"lipids\", \"preparacion\", \"developing countries\", \"classification\", \"diabetes\", \"cell proliferation\", \"mathematical models\", \"international\", \"ultrasound\", \"development\", \"diffusion\", \"expresion genetica\", \"carbon\", \"expression genique\", \"chemical analysis\", \"appareil urinaire pathologie\", \"proteina\", \"potassium\", \"websearch\", \"artiodactyla\", \"insecta\", \"high resolution\", \"frequency\", \"monocotyledones\", \"quality of life\", \"single crystal\", \"hydrogen\", \"adulte\", \"scientific\", \"cell cycle\", \"hydrolases\", \"finite element method\", \"quantum mechanics\", \"proteine\", \"optical properties\", \"data analysis\", \"ungulata\", \"preparation\", \"infrared\", \"vaisseau sanguin pathologie\", \"zinc\", \"piel patologia\", \"morfologia\", \"cognition\", \"phase transition\", \"evaluacion prestacion\", \"electric field\", \"nickel\", \"growth\", \"conference proceedings\", \"heart\", \"simulacion numerica\", \"actividad biologica\", \"activite biologique\", \"monitoring\", \"factor riesgo\", \"facteur risque\", \"evaluation\", \"estudio teorico\", \"infections\", \"neural network\", \"thallophyta\", \"endocrinopathie\", \"endocrinopatia\", \"endocrinopathy\", \"modelo\", \"adulto\", \"seasonality\", \"signal processing\", \"inflammation\"], [100, 100, 100, 100, 100, 100, 102, 102, 102, 102, 102, 102, 102, 102, 103, 103, 103, 103, 103, 104, 104, 104, 104, 104, 105, 105, 105, 105, 105, 105, 106, 106, 106, 106, 106, 107, 107, 107, 107, 107, 107, 108, 108, 108, 108, 108, 109, 109, 109, 109, 109, 110, 110, 110, 110, 110, 110, 111, 111, 111, 111, 112, 112, 112, 114, 114, 114, 115, 115, 116, 116, 116, 116, 116, 116, 117, 117, 117, 117, 118, 118, 118, 119, 119, 119, 119, 119, 120, 120, 120, 120, 121, 121, 121, 121, 122, 122, 122, 123, 123]]}, \"header\": {\"align\": [\"left\", \"left\", \"left\", \"left\", \"left\"], \"fill\": {\"color\": \"#C2D4FF\"}, \"values\": [\"Keyword\", \"Count\"]}, \"type\": \"table\", \"uid\": \"7e7e9de3-56b1-4085-8213-200e1ecf3875\"}],\n",
       "                        {\"height\": 700, \"width\": 900},\n",
       "                        {\"showLink\": false, \"linkText\": \"Export to plot.ly\", \"plotlyServerURL\": \"https://plot.ly\", \"responsive\": true}\n",
       "                    ).then(function(){\n",
       "                            \n",
       "var gd = document.getElementById('7c6bc282-73b1-422f-8d88-744d6ded8bc7');\n",
       "var x = new MutationObserver(function (mutations, observer) {{\n",
       "        var display = window.getComputedStyle(gd).display;\n",
       "        if (!display || display === 'none') {{\n",
       "            console.log([gd, 'removed!']);\n",
       "            Plotly.purge(gd);\n",
       "            observer.disconnect();\n",
       "        }}\n",
       "}});\n",
       "\n",
       "// Listen for the removal of the full notebook cells\n",
       "var notebookContainer = gd.closest('#notebook-container');\n",
       "if (notebookContainer) {{\n",
       "    x.observe(notebookContainer, {childList: true});\n",
       "}}\n",
       "\n",
       "// Listen for the clearing of the current output cell\n",
       "var outputEl = gd.closest('.output');\n",
       "if (outputEl) {{\n",
       "    x.observe(outputEl, {childList: true});\n",
       "}}\n",
       "\n",
       "                        })\n",
       "                };\n",
       "                });\n",
       "            </script>\n",
       "        </div>"
      ]
     },
     "metadata": {},
     "output_type": "display_data"
    }
   ],
   "source": [
    "# show major topics top 100 (gives a gist of what should be inputted in later sections)\n",
    "visual.apply_major_topics(n_count=\"100\", \n",
    "                          result_path=\"/topics\")"
   ]
  },
  {
   "cell_type": "markdown",
   "metadata": {},
   "source": [
    "## Dense Communities in Publications Network"
   ]
  },
  {
   "cell_type": "markdown",
   "metadata": {},
   "source": [
    "### Community #1"
   ]
  },
  {
   "cell_type": "code",
   "execution_count": null,
   "metadata": {
    "scrolled": false
   },
   "outputs": [],
   "source": [
    "# apply flink community detection   \n",
    "visual.community_detection(community_colors=community_colors,\n",
    "                           result_path=\"/community_1\")"
   ]
  },
  {
   "cell_type": "markdown",
   "metadata": {},
   "source": [
    "### Community #2"
   ]
  },
  {
   "cell_type": "code",
   "execution_count": null,
   "metadata": {
    "scrolled": false
   },
   "outputs": [],
   "source": [
    "# apply flink community detection   \n",
    "visual.community_detection(community_colors=community_colors,\n",
    "                           result_path=\"/community_2\")"
   ]
  },
  {
   "cell_type": "markdown",
   "metadata": {},
   "source": [
    "## Dynamics in Publication Networks "
   ]
  },
  {
   "cell_type": "markdown",
   "metadata": {},
   "source": [
    "### Authorship Pattern"
   ]
  },
  {
   "cell_type": "code",
   "execution_count": null,
   "metadata": {
    "scrolled": false
   },
   "outputs": [],
   "source": [
    "# plot authorship pattern\n",
    "cutoff_unit = 20\n",
    "visual.plot_authorship_ptrn(cutoff_unit)"
   ]
  },
  {
   "cell_type": "markdown",
   "metadata": {},
   "source": [
    "### Single Authored vs. Co-authored Publications"
   ]
  },
  {
   "cell_type": "code",
   "execution_count": null,
   "metadata": {
    "scrolled": false
   },
   "outputs": [],
   "source": [
    "# plot year-wise distribution single author vs co-authored \n",
    "n_years = 20\n",
    "visual.plot_yr_dist(years=n_years)"
   ]
  },
  {
   "cell_type": "markdown",
   "metadata": {},
   "source": [
    "### Average Number of Authors per Paper (AAP)"
   ]
  },
  {
   "cell_type": "code",
   "execution_count": null,
   "metadata": {},
   "outputs": [],
   "source": [
    "# plot avg number of authors per paper (AAP)\n",
    "visual.plot_aap(years=n_years)"
   ]
  },
  {
   "cell_type": "markdown",
   "metadata": {},
   "source": [
    "### Paper Authorship Goes Hyper"
   ]
  },
  {
   "cell_type": "code",
   "execution_count": null,
   "metadata": {},
   "outputs": [],
   "source": [
    "# plot publications with over 100 authors, yearly distributed \n",
    "# starting from 2012\n",
    "visual.plot_hyper_authorship(earliest=2000)"
   ]
  },
  {
   "cell_type": "markdown",
   "metadata": {},
   "source": [
    "## Association & Correlation Analysis "
   ]
  },
  {
   "cell_type": "markdown",
   "metadata": {},
   "source": [
    "### Association between Authors & Keywords & Potential Collaborators"
   ]
  },
  {
   "cell_type": "code",
   "execution_count": null,
   "metadata": {
    "scrolled": false
   },
   "outputs": [],
   "source": [
    "# apply flink association/correlation analysis and plot results    \n",
    "visual.author_association(result_path=\"/association_correlation\")"
   ]
  },
  {
   "cell_type": "code",
   "execution_count": null,
   "metadata": {},
   "outputs": [],
   "source": [
    "# close all connections/sessions used by ScipiVisual\n",
    "visual.close()"
   ]
  }
 ],
 "metadata": {
  "kernelspec": {
   "display_name": "Python [conda env:ics5114] *",
   "language": "python",
   "name": "conda-env-ics5114-py"
  },
  "language_info": {
   "codemirror_mode": {
    "name": "ipython",
    "version": 3
   },
   "file_extension": ".py",
   "mimetype": "text/x-python",
   "name": "python",
   "nbconvert_exporter": "python",
   "pygments_lexer": "ipython3",
   "version": "3.7.3"
  }
 },
 "nbformat": 4,
 "nbformat_minor": 2
}
