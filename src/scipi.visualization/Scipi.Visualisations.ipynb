{
 "cells": [
  {
   "cell_type": "code",
   "execution_count": 1,
   "metadata": {},
   "outputs": [
    {
     "data": {
      "text/html": [
       "        <script type=\"text/javascript\">\n",
       "        window.PlotlyConfig = {MathJaxConfig: 'local'};\n",
       "        if (window.MathJax) {MathJax.Hub.Config({SVG: {font: \"STIX-Web\"}});}\n",
       "        if (typeof require !== 'undefined') {\n",
       "        require.undef(\"plotly\");\n",
       "        requirejs.config({\n",
       "            paths: {\n",
       "                'plotly': ['https://cdn.plot.ly/plotly-latest.min']\n",
       "            }\n",
       "        });\n",
       "        require(['plotly'], function(Plotly) {\n",
       "            window._Plotly = Plotly;\n",
       "        });\n",
       "        }\n",
       "        </script>\n",
       "        "
      ]
     },
     "metadata": {},
     "output_type": "display_data"
    }
   ],
   "source": [
    "# importing libraries \n",
    "import pandas as pd\n",
    "from visualisations import ScipiVisual "
   ]
  },
  {
   "cell_type": "code",
   "execution_count": 2,
   "metadata": {},
   "outputs": [],
   "source": [
    "# initialize a new instance for ScipiVisual & set environment \n",
    "cassandra_points = [\"localhost\"] \n",
    "visual = ScipiVisual(cassandra_points=cassandra_points)"
   ]
  },
  {
   "cell_type": "markdown",
   "metadata": {},
   "source": [
    "## Dense Communities in Publications Network"
   ]
  },
  {
   "cell_type": "code",
   "execution_count": 3,
   "metadata": {
    "scrolled": false
   },
   "outputs": [],
   "source": [
    "# visual.plot_bubble_topics()"
   ]
  },
  {
   "cell_type": "markdown",
   "metadata": {},
   "source": [
    "## Dynamics in Publication Networks "
   ]
  },
  {
   "cell_type": "code",
   "execution_count": 4,
   "metadata": {
    "scrolled": false
   },
   "outputs": [
    {
     "data": {
      "application/vnd.plotly.v1+json": {
       "config": {
        "linkText": "Export to plot.ly",
        "plotlyServerURL": "https://plot.ly",
        "responsive": true,
        "showLink": false
       },
       "data": [
        {
         "cells": {
          "align": [
           "left",
           "left",
           "left",
           "left",
           "left"
          ],
          "fill": {
           "color": "#F5F8FF"
          },
          "values": [
           [
            1,
            2,
            3,
            4,
            5,
            6,
            7,
            8,
            9,
            10,
            11,
            12,
            13,
            14,
            15,
            16,
            17,
            18,
            19,
            20,
            ">20"
           ],
           [
            10306,
            10021,
            8058,
            5922,
            3932,
            2670,
            1723,
            1168,
            729,
            466,
            288,
            180,
            107,
            80,
            77,
            44,
            29,
            22,
            35,
            21,
            101
           ],
           [
            10306,
            20042,
            24174,
            23688,
            19660,
            16020,
            12061,
            9344,
            6561,
            4660,
            3168,
            2160,
            1391,
            1120,
            1155,
            704,
            493,
            396,
            665,
            420,
            3989
           ],
           [
            22.41,
            21.79,
            17.53,
            12.88,
            8.55,
            5.81,
            3.75,
            2.54,
            1.59,
            1.01,
            0.63,
            0.39,
            0.23,
            0.17,
            0.17,
            0.1,
            0.06,
            0.05,
            0.08,
            0.05,
            0.22
           ],
           [
            22.4,
            44.2,
            61.7,
            74.6,
            83.2,
            89,
            92.7,
            95.3,
            96.9,
            97.9,
            98.5,
            98.9,
            99.1,
            99.3,
            99.5,
            99.6,
            99.6,
            99.7,
            99.7,
            99.8,
            100
           ]
          ]
         },
         "header": {
          "align": [
           "left",
           "left",
           "left",
           "left",
           "left"
          ],
          "fill": {
           "color": "#C2D4FF"
          },
          "values": [
           "No. authors (unit)",
           "No. of publications",
           "No. of authors",
           "% of total publications",
           "Cum.(%) of total publications"
          ]
         },
         "type": "table",
         "uid": "e9059ac5-dc8d-43f4-a780-1fb65f415f1e"
        }
       ],
       "layout": {}
      },
      "text/html": [
       "<div>\n",
       "        \n",
       "        \n",
       "            <div id=\"5b06e246-5a19-4f68-868b-d0f183bcb598\" class=\"plotly-graph-div\" style=\"height:525px; width:100%;\"></div>\n",
       "            <script type=\"text/javascript\">\n",
       "                require([\"plotly\"], function(Plotly) {\n",
       "                    window.PLOTLYENV=window.PLOTLYENV || {};\n",
       "                    window.PLOTLYENV.BASE_URL='https://plot.ly';\n",
       "                    \n",
       "                if (document.getElementById(\"5b06e246-5a19-4f68-868b-d0f183bcb598\")) {\n",
       "                    Plotly.newPlot(\n",
       "                        '5b06e246-5a19-4f68-868b-d0f183bcb598',\n",
       "                        [{\"cells\": {\"align\": [\"left\", \"left\", \"left\", \"left\", \"left\"], \"fill\": {\"color\": \"#F5F8FF\"}, \"values\": [[1, 2, 3, 4, 5, 6, 7, 8, 9, 10, 11, 12, 13, 14, 15, 16, 17, 18, 19, 20, \">20\"], [10306, 10021, 8058, 5922, 3932, 2670, 1723, 1168, 729, 466, 288, 180, 107, 80, 77, 44, 29, 22, 35, 21, 101], [10306, 20042, 24174, 23688, 19660, 16020, 12061, 9344, 6561, 4660, 3168, 2160, 1391, 1120, 1155, 704, 493, 396, 665, 420, 3989], [22.41, 21.79, 17.53, 12.88, 8.55, 5.81, 3.75, 2.54, 1.59, 1.01, 0.63, 0.39, 0.23, 0.17, 0.17, 0.1, 0.06, 0.05, 0.08, 0.05, 0.22], [22.4, 44.2, 61.7, 74.6, 83.2, 89.0, 92.7, 95.3, 96.9, 97.9, 98.5, 98.9, 99.1, 99.3, 99.5, 99.6, 99.6, 99.7, 99.7, 99.8, 100.0]]}, \"header\": {\"align\": [\"left\", \"left\", \"left\", \"left\", \"left\"], \"fill\": {\"color\": \"#C2D4FF\"}, \"values\": [\"No. authors (unit)\", \"No. of publications\", \"No. of authors\", \"% of total publications\", \"Cum.(%) of total publications\"]}, \"type\": \"table\", \"uid\": \"f6807238-4f33-46d6-8591-67a9cf73ed6a\"}],\n",
       "                        {},\n",
       "                        {\"showLink\": false, \"linkText\": \"Export to plot.ly\", \"plotlyServerURL\": \"https://plot.ly\", \"responsive\": true}\n",
       "                    ).then(function(){\n",
       "                            \n",
       "var gd = document.getElementById('5b06e246-5a19-4f68-868b-d0f183bcb598');\n",
       "var x = new MutationObserver(function (mutations, observer) {{\n",
       "        var display = window.getComputedStyle(gd).display;\n",
       "        if (!display || display === 'none') {{\n",
       "            console.log([gd, 'removed!']);\n",
       "            Plotly.purge(gd);\n",
       "            observer.disconnect();\n",
       "        }}\n",
       "}});\n",
       "\n",
       "// Listen for the removal of the full notebook cells\n",
       "var notebookContainer = gd.closest('#notebook-container');\n",
       "if (notebookContainer) {{\n",
       "    x.observe(notebookContainer, {childList: true});\n",
       "}}\n",
       "\n",
       "// Listen for the clearing of the current output cell\n",
       "var outputEl = gd.closest('.output');\n",
       "if (outputEl) {{\n",
       "    x.observe(outputEl, {childList: true});\n",
       "}}\n",
       "\n",
       "                        })\n",
       "                };\n",
       "                });\n",
       "            </script>\n",
       "        </div>"
      ]
     },
     "metadata": {},
     "output_type": "display_data"
    }
   ],
   "source": [
    "# plot authorship patterns \n",
    "visual.plot_authorship_ptrn(20)"
   ]
  },
  {
   "cell_type": "code",
   "execution_count": 5,
   "metadata": {
    "scrolled": false
   },
   "outputs": [
    {
     "data": {
      "application/vnd.plotly.v1+json": {
       "config": {
        "linkText": "Export to plot.ly",
        "plotlyServerURL": "https://plot.ly",
        "responsive": true,
        "showLink": false
       },
       "data": [
        {
         "cells": {
          "align": [
           "left",
           "left",
           "left",
           "left",
           "left"
          ],
          "fill": {
           "color": "#F5F8FF"
          },
          "values": [
           [
            "1999",
            "2000",
            "2001",
            "2002",
            "2003",
            "2004",
            "2005",
            "2006",
            "2007",
            "2008",
            "2009",
            "2010",
            "2011",
            "2012",
            "2013",
            "2014",
            "2015",
            "2016",
            "2017",
            "2018"
           ],
           [
            189,
            204,
            206,
            217,
            224,
            234,
            252,
            243,
            294,
            334,
            404,
            391,
            362,
            355,
            356,
            397,
            337,
            364,
            121,
            0
           ],
           [
            666,
            735,
            717,
            764,
            879,
            937,
            1060,
            1115,
            1301,
            1459,
            1609,
            1851,
            1832,
            1810,
            2052,
            2179,
            2097,
            2048,
            918,
            2
           ],
           [
            855,
            939,
            923,
            981,
            1103,
            1171,
            1312,
            1358,
            1595,
            1793,
            2013,
            2242,
            2194,
            2165,
            2408,
            2576,
            2434,
            2412,
            1039,
            2
           ],
           [
            22.11,
            21.73,
            22.32,
            22.12,
            20.31,
            19.98,
            19.21,
            17.89,
            18.43,
            18.63,
            20.07,
            17.44,
            16.5,
            16.4,
            14.78,
            15.41,
            13.85,
            15.09,
            11.65,
            0
           ],
           [
            77.89,
            78.27,
            77.68,
            77.88,
            79.69,
            80.02,
            80.79,
            82.11,
            81.57,
            81.37,
            79.93,
            82.56,
            83.5,
            83.6,
            85.22,
            84.59,
            86.15,
            84.91,
            88.35,
            100
           ]
          ]
         },
         "header": {
          "align": [
           "left",
           "left",
           "left",
           "left",
           "left"
          ],
          "fill": {
           "color": "#C2D4FF"
          },
          "values": [
           "year",
           "Single authored",
           "Joint authored",
           "Total Publications",
           "% of Single authored publications",
           "% of Joint authored publications"
          ]
         },
         "type": "table",
         "uid": "4400f01e-b98f-42e5-916b-e0681c36c6cc"
        }
       ],
       "layout": {}
      },
      "text/html": [
       "<div>\n",
       "        \n",
       "        \n",
       "            <div id=\"29b73d53-38aa-42bf-8eaf-865b070fcb07\" class=\"plotly-graph-div\" style=\"height:525px; width:100%;\"></div>\n",
       "            <script type=\"text/javascript\">\n",
       "                require([\"plotly\"], function(Plotly) {\n",
       "                    window.PLOTLYENV=window.PLOTLYENV || {};\n",
       "                    window.PLOTLYENV.BASE_URL='https://plot.ly';\n",
       "                    \n",
       "                if (document.getElementById(\"29b73d53-38aa-42bf-8eaf-865b070fcb07\")) {\n",
       "                    Plotly.newPlot(\n",
       "                        '29b73d53-38aa-42bf-8eaf-865b070fcb07',\n",
       "                        [{\"cells\": {\"align\": [\"left\", \"left\", \"left\", \"left\", \"left\"], \"fill\": {\"color\": \"#F5F8FF\"}, \"values\": [[\"1999\", \"2000\", \"2001\", \"2002\", \"2003\", \"2004\", \"2005\", \"2006\", \"2007\", \"2008\", \"2009\", \"2010\", \"2011\", \"2012\", \"2013\", \"2014\", \"2015\", \"2016\", \"2017\", \"2018\"], [189, 204, 206, 217, 224, 234, 252, 243, 294, 334, 404, 391, 362, 355, 356, 397, 337, 364, 121, 0], [666, 735, 717, 764, 879, 937, 1060, 1115, 1301, 1459, 1609, 1851, 1832, 1810, 2052, 2179, 2097, 2048, 918, 2], [855, 939, 923, 981, 1103, 1171, 1312, 1358, 1595, 1793, 2013, 2242, 2194, 2165, 2408, 2576, 2434, 2412, 1039, 2], [22.11, 21.73, 22.32, 22.12, 20.31, 19.98, 19.21, 17.89, 18.43, 18.63, 20.07, 17.44, 16.5, 16.4, 14.78, 15.41, 13.85, 15.09, 11.65, 0.0], [77.89, 78.27, 77.68, 77.88, 79.69, 80.02, 80.79, 82.11, 81.57, 81.37, 79.93, 82.56, 83.5, 83.6, 85.22, 84.59, 86.15, 84.91, 88.35, 100.0]]}, \"header\": {\"align\": [\"left\", \"left\", \"left\", \"left\", \"left\"], \"fill\": {\"color\": \"#C2D4FF\"}, \"values\": [\"year\", \"Single authored\", \"Joint authored\", \"Total Publications\", \"% of Single authored publications\", \"% of Joint authored publications\"]}, \"type\": \"table\", \"uid\": \"8a2562c7-7642-4a82-a6c4-84d36072a90c\"}],\n",
       "                        {},\n",
       "                        {\"showLink\": false, \"linkText\": \"Export to plot.ly\", \"plotlyServerURL\": \"https://plot.ly\", \"responsive\": true}\n",
       "                    ).then(function(){\n",
       "                            \n",
       "var gd = document.getElementById('29b73d53-38aa-42bf-8eaf-865b070fcb07');\n",
       "var x = new MutationObserver(function (mutations, observer) {{\n",
       "        var display = window.getComputedStyle(gd).display;\n",
       "        if (!display || display === 'none') {{\n",
       "            console.log([gd, 'removed!']);\n",
       "            Plotly.purge(gd);\n",
       "            observer.disconnect();\n",
       "        }}\n",
       "}});\n",
       "\n",
       "// Listen for the removal of the full notebook cells\n",
       "var notebookContainer = gd.closest('#notebook-container');\n",
       "if (notebookContainer) {{\n",
       "    x.observe(notebookContainer, {childList: true});\n",
       "}}\n",
       "\n",
       "// Listen for the clearing of the current output cell\n",
       "var outputEl = gd.closest('.output');\n",
       "if (outputEl) {{\n",
       "    x.observe(outputEl, {childList: true});\n",
       "}}\n",
       "\n",
       "                        })\n",
       "                };\n",
       "                });\n",
       "            </script>\n",
       "        </div>"
      ]
     },
     "metadata": {},
     "output_type": "display_data"
    },
    {
     "data": {
      "application/vnd.plotly.v1+json": {
       "config": {
        "linkText": "Export to plot.ly",
        "plotlyServerURL": "https://plot.ly",
        "responsive": true,
        "showLink": false
       },
       "data": [
        {
         "line": {
          "color": "rgba(255, 153, 51, 1.0)",
          "dash": "solid",
          "shape": "linear",
          "width": 1.3
         },
         "mode": "lines",
         "name": "Single authored",
         "text": "",
         "type": "scatter",
         "uid": "c0e2fe3b-5370-49ba-8ed6-bde74e124858",
         "x": [
          "1999",
          "2000",
          "2001",
          "2002",
          "2003",
          "2004",
          "2005",
          "2006",
          "2007",
          "2008",
          "2009",
          "2010",
          "2011",
          "2012",
          "2013",
          "2014",
          "2015",
          "2016",
          "2017",
          "2018"
         ],
         "y": [
          189,
          204,
          206,
          217,
          224,
          234,
          252,
          243,
          294,
          334,
          404,
          391,
          362,
          355,
          356,
          397,
          337,
          364,
          121,
          0
         ]
        },
        {
         "line": {
          "color": "rgba(55, 128, 191, 1.0)",
          "dash": "solid",
          "shape": "linear",
          "width": 1.3
         },
         "mode": "lines",
         "name": "Joint authored",
         "text": "",
         "type": "scatter",
         "uid": "7503e8d0-c729-42dd-bcc8-f31124de8a4d",
         "x": [
          "1999",
          "2000",
          "2001",
          "2002",
          "2003",
          "2004",
          "2005",
          "2006",
          "2007",
          "2008",
          "2009",
          "2010",
          "2011",
          "2012",
          "2013",
          "2014",
          "2015",
          "2016",
          "2017",
          "2018"
         ],
         "y": [
          666,
          735,
          717,
          764,
          879,
          937,
          1060,
          1115,
          1301,
          1459,
          1609,
          1851,
          1832,
          1810,
          2052,
          2179,
          2097,
          2048,
          918,
          2
         ]
        }
       ],
       "layout": {
        "legend": {
         "bgcolor": "#F5F6F9",
         "font": {
          "color": "#4D5663"
         }
        },
        "paper_bgcolor": "#F5F6F9",
        "plot_bgcolor": "#F5F6F9",
        "title": {
         "font": {
          "color": "#4D5663"
         },
         "text": "Single Authored vs co-authored publications from 1999 to 2018."
        },
        "xaxis": {
         "gridcolor": "#E1E5ED",
         "showgrid": true,
         "tickfont": {
          "color": "#4D5663"
         },
         "title": {
          "font": {
           "color": "#4D5663"
          },
          "text": "Years"
         },
         "zerolinecolor": "#E1E5ED"
        },
        "yaxis": {
         "gridcolor": "#E1E5ED",
         "showgrid": true,
         "tickfont": {
          "color": "#4D5663"
         },
         "title": {
          "font": {
           "color": "#4D5663"
          },
          "text": "Total Publications"
         },
         "zerolinecolor": "#E1E5ED"
        }
       }
      },
      "text/html": [
       "<div>\n",
       "        \n",
       "        \n",
       "            <div id=\"c1b237f4-278d-4087-9386-cce3bedb1701\" class=\"plotly-graph-div\" style=\"height:525px; width:100%;\"></div>\n",
       "            <script type=\"text/javascript\">\n",
       "                require([\"plotly\"], function(Plotly) {\n",
       "                    window.PLOTLYENV=window.PLOTLYENV || {};\n",
       "                    window.PLOTLYENV.BASE_URL='https://plot.ly';\n",
       "                    \n",
       "                if (document.getElementById(\"c1b237f4-278d-4087-9386-cce3bedb1701\")) {\n",
       "                    Plotly.newPlot(\n",
       "                        'c1b237f4-278d-4087-9386-cce3bedb1701',\n",
       "                        [{\"line\": {\"color\": \"rgba(255, 153, 51, 1.0)\", \"dash\": \"solid\", \"shape\": \"linear\", \"width\": 1.3}, \"mode\": \"lines\", \"name\": \"Single authored\", \"text\": \"\", \"type\": \"scatter\", \"uid\": \"a870e0c1-920d-4739-a163-c6131aaeea7f\", \"x\": [\"1999\", \"2000\", \"2001\", \"2002\", \"2003\", \"2004\", \"2005\", \"2006\", \"2007\", \"2008\", \"2009\", \"2010\", \"2011\", \"2012\", \"2013\", \"2014\", \"2015\", \"2016\", \"2017\", \"2018\"], \"y\": [189, 204, 206, 217, 224, 234, 252, 243, 294, 334, 404, 391, 362, 355, 356, 397, 337, 364, 121, 0]}, {\"line\": {\"color\": \"rgba(55, 128, 191, 1.0)\", \"dash\": \"solid\", \"shape\": \"linear\", \"width\": 1.3}, \"mode\": \"lines\", \"name\": \"Joint authored\", \"text\": \"\", \"type\": \"scatter\", \"uid\": \"37c8f181-8571-41b8-a41b-ae0568bb3dc5\", \"x\": [\"1999\", \"2000\", \"2001\", \"2002\", \"2003\", \"2004\", \"2005\", \"2006\", \"2007\", \"2008\", \"2009\", \"2010\", \"2011\", \"2012\", \"2013\", \"2014\", \"2015\", \"2016\", \"2017\", \"2018\"], \"y\": [666, 735, 717, 764, 879, 937, 1060, 1115, 1301, 1459, 1609, 1851, 1832, 1810, 2052, 2179, 2097, 2048, 918, 2]}],\n",
       "                        {\"legend\": {\"bgcolor\": \"#F5F6F9\", \"font\": {\"color\": \"#4D5663\"}}, \"paper_bgcolor\": \"#F5F6F9\", \"plot_bgcolor\": \"#F5F6F9\", \"title\": {\"font\": {\"color\": \"#4D5663\"}, \"text\": \"Single Authored vs co-authored publications from 1999 to 2018.\"}, \"xaxis\": {\"gridcolor\": \"#E1E5ED\", \"showgrid\": true, \"tickfont\": {\"color\": \"#4D5663\"}, \"title\": {\"font\": {\"color\": \"#4D5663\"}, \"text\": \"Years\"}, \"zerolinecolor\": \"#E1E5ED\"}, \"yaxis\": {\"gridcolor\": \"#E1E5ED\", \"showgrid\": true, \"tickfont\": {\"color\": \"#4D5663\"}, \"title\": {\"font\": {\"color\": \"#4D5663\"}, \"text\": \"Total Publications\"}, \"zerolinecolor\": \"#E1E5ED\"}},\n",
       "                        {\"showLink\": false, \"linkText\": \"Export to plot.ly\", \"plotlyServerURL\": \"https://plot.ly\", \"responsive\": true}\n",
       "                    ).then(function(){\n",
       "                            \n",
       "var gd = document.getElementById('c1b237f4-278d-4087-9386-cce3bedb1701');\n",
       "var x = new MutationObserver(function (mutations, observer) {{\n",
       "        var display = window.getComputedStyle(gd).display;\n",
       "        if (!display || display === 'none') {{\n",
       "            console.log([gd, 'removed!']);\n",
       "            Plotly.purge(gd);\n",
       "            observer.disconnect();\n",
       "        }}\n",
       "}});\n",
       "\n",
       "// Listen for the removal of the full notebook cells\n",
       "var notebookContainer = gd.closest('#notebook-container');\n",
       "if (notebookContainer) {{\n",
       "    x.observe(notebookContainer, {childList: true});\n",
       "}}\n",
       "\n",
       "// Listen for the clearing of the current output cell\n",
       "var outputEl = gd.closest('.output');\n",
       "if (outputEl) {{\n",
       "    x.observe(outputEl, {childList: true});\n",
       "}}\n",
       "\n",
       "                        })\n",
       "                };\n",
       "                });\n",
       "            </script>\n",
       "        </div>"
      ]
     },
     "metadata": {},
     "output_type": "display_data"
    },
    {
     "data": {
      "application/vnd.plotly.v1+json": {
       "config": {
        "linkText": "Export to plot.ly",
        "plotlyServerURL": "https://plot.ly",
        "responsive": true,
        "showLink": false
       },
       "data": [
        {
         "line": {
          "color": "rgba(255, 153, 51, 1.0)",
          "dash": "solid",
          "shape": "linear",
          "width": 1.3
         },
         "mode": "lines",
         "name": "% of Single authored publications",
         "text": "",
         "type": "scatter",
         "uid": "3254557c-dfea-40f5-afe2-ff6e83583fe9",
         "x": [
          "1999",
          "2000",
          "2001",
          "2002",
          "2003",
          "2004",
          "2005",
          "2006",
          "2007",
          "2008",
          "2009",
          "2010",
          "2011",
          "2012",
          "2013",
          "2014",
          "2015",
          "2016",
          "2017",
          "2018"
         ],
         "y": [
          22.11,
          21.73,
          22.32,
          22.12,
          20.31,
          19.98,
          19.21,
          17.89,
          18.43,
          18.63,
          20.07,
          17.44,
          16.5,
          16.4,
          14.78,
          15.41,
          13.85,
          15.09,
          11.65,
          0
         ]
        },
        {
         "line": {
          "color": "rgba(55, 128, 191, 1.0)",
          "dash": "solid",
          "shape": "linear",
          "width": 1.3
         },
         "mode": "lines",
         "name": "% of Joint authored publications",
         "text": "",
         "type": "scatter",
         "uid": "c173ac47-f856-4537-80ee-2fde172e9907",
         "x": [
          "1999",
          "2000",
          "2001",
          "2002",
          "2003",
          "2004",
          "2005",
          "2006",
          "2007",
          "2008",
          "2009",
          "2010",
          "2011",
          "2012",
          "2013",
          "2014",
          "2015",
          "2016",
          "2017",
          "2018"
         ],
         "y": [
          77.89,
          78.27,
          77.68,
          77.88,
          79.69,
          80.02,
          80.79,
          82.11,
          81.57,
          81.37,
          79.93,
          82.56,
          83.5,
          83.6,
          85.22,
          84.59,
          86.15,
          84.91,
          88.35,
          100
         ]
        }
       ],
       "layout": {
        "legend": {
         "bgcolor": "#F5F6F9",
         "font": {
          "color": "#4D5663"
         }
        },
        "paper_bgcolor": "#F5F6F9",
        "plot_bgcolor": "#F5F6F9",
        "title": {
         "font": {
          "color": "#4D5663"
         },
         "text": "Single Authored vs co-authored publications from 1999 to 2018."
        },
        "xaxis": {
         "gridcolor": "#E1E5ED",
         "showgrid": true,
         "tickfont": {
          "color": "#4D5663"
         },
         "title": {
          "font": {
           "color": "#4D5663"
          },
          "text": "Years"
         },
         "zerolinecolor": "#E1E5ED"
        },
        "yaxis": {
         "gridcolor": "#E1E5ED",
         "showgrid": true,
         "tickfont": {
          "color": "#4D5663"
         },
         "title": {
          "font": {
           "color": "#4D5663"
          },
          "text": "(%) Publications"
         },
         "zerolinecolor": "#E1E5ED"
        }
       }
      },
      "text/html": [
       "<div>\n",
       "        \n",
       "        \n",
       "            <div id=\"c96ff18e-2e39-496e-97c1-e5922bb56486\" class=\"plotly-graph-div\" style=\"height:525px; width:100%;\"></div>\n",
       "            <script type=\"text/javascript\">\n",
       "                require([\"plotly\"], function(Plotly) {\n",
       "                    window.PLOTLYENV=window.PLOTLYENV || {};\n",
       "                    window.PLOTLYENV.BASE_URL='https://plot.ly';\n",
       "                    \n",
       "                if (document.getElementById(\"c96ff18e-2e39-496e-97c1-e5922bb56486\")) {\n",
       "                    Plotly.newPlot(\n",
       "                        'c96ff18e-2e39-496e-97c1-e5922bb56486',\n",
       "                        [{\"line\": {\"color\": \"rgba(255, 153, 51, 1.0)\", \"dash\": \"solid\", \"shape\": \"linear\", \"width\": 1.3}, \"mode\": \"lines\", \"name\": \"% of Single authored publications\", \"text\": \"\", \"type\": \"scatter\", \"uid\": \"125de027-192e-4047-959f-2bd88d1a9ca5\", \"x\": [\"1999\", \"2000\", \"2001\", \"2002\", \"2003\", \"2004\", \"2005\", \"2006\", \"2007\", \"2008\", \"2009\", \"2010\", \"2011\", \"2012\", \"2013\", \"2014\", \"2015\", \"2016\", \"2017\", \"2018\"], \"y\": [22.11, 21.73, 22.32, 22.12, 20.31, 19.98, 19.21, 17.89, 18.43, 18.63, 20.07, 17.44, 16.5, 16.4, 14.78, 15.41, 13.85, 15.09, 11.65, 0.0]}, {\"line\": {\"color\": \"rgba(55, 128, 191, 1.0)\", \"dash\": \"solid\", \"shape\": \"linear\", \"width\": 1.3}, \"mode\": \"lines\", \"name\": \"% of Joint authored publications\", \"text\": \"\", \"type\": \"scatter\", \"uid\": \"2982ee3f-380f-4215-a550-237c0dce37a1\", \"x\": [\"1999\", \"2000\", \"2001\", \"2002\", \"2003\", \"2004\", \"2005\", \"2006\", \"2007\", \"2008\", \"2009\", \"2010\", \"2011\", \"2012\", \"2013\", \"2014\", \"2015\", \"2016\", \"2017\", \"2018\"], \"y\": [77.89, 78.27, 77.68, 77.88, 79.69, 80.02, 80.79, 82.11, 81.57, 81.37, 79.93, 82.56, 83.5, 83.6, 85.22, 84.59, 86.15, 84.91, 88.35, 100.0]}],\n",
       "                        {\"legend\": {\"bgcolor\": \"#F5F6F9\", \"font\": {\"color\": \"#4D5663\"}}, \"paper_bgcolor\": \"#F5F6F9\", \"plot_bgcolor\": \"#F5F6F9\", \"title\": {\"font\": {\"color\": \"#4D5663\"}, \"text\": \"Single Authored vs co-authored publications from 1999 to 2018.\"}, \"xaxis\": {\"gridcolor\": \"#E1E5ED\", \"showgrid\": true, \"tickfont\": {\"color\": \"#4D5663\"}, \"title\": {\"font\": {\"color\": \"#4D5663\"}, \"text\": \"Years\"}, \"zerolinecolor\": \"#E1E5ED\"}, \"yaxis\": {\"gridcolor\": \"#E1E5ED\", \"showgrid\": true, \"tickfont\": {\"color\": \"#4D5663\"}, \"title\": {\"font\": {\"color\": \"#4D5663\"}, \"text\": \"(%) Publications\"}, \"zerolinecolor\": \"#E1E5ED\"}},\n",
       "                        {\"showLink\": false, \"linkText\": \"Export to plot.ly\", \"plotlyServerURL\": \"https://plot.ly\", \"responsive\": true}\n",
       "                    ).then(function(){\n",
       "                            \n",
       "var gd = document.getElementById('c96ff18e-2e39-496e-97c1-e5922bb56486');\n",
       "var x = new MutationObserver(function (mutations, observer) {{\n",
       "        var display = window.getComputedStyle(gd).display;\n",
       "        if (!display || display === 'none') {{\n",
       "            console.log([gd, 'removed!']);\n",
       "            Plotly.purge(gd);\n",
       "            observer.disconnect();\n",
       "        }}\n",
       "}});\n",
       "\n",
       "// Listen for the removal of the full notebook cells\n",
       "var notebookContainer = gd.closest('#notebook-container');\n",
       "if (notebookContainer) {{\n",
       "    x.observe(notebookContainer, {childList: true});\n",
       "}}\n",
       "\n",
       "// Listen for the clearing of the current output cell\n",
       "var outputEl = gd.closest('.output');\n",
       "if (outputEl) {{\n",
       "    x.observe(outputEl, {childList: true});\n",
       "}}\n",
       "\n",
       "                        })\n",
       "                };\n",
       "                });\n",
       "            </script>\n",
       "        </div>"
      ]
     },
     "metadata": {},
     "output_type": "display_data"
    }
   ],
   "source": [
    "# plot year-wise distribution single author vs co-authored \n",
    "n_years = 20\n",
    "visual.plot_yr_dist_pub(years=n_years)"
   ]
  }
 ],
 "metadata": {
  "kernelspec": {
   "display_name": "Python [conda env:ics5114] *",
   "language": "python",
   "name": "conda-env-ics5114-py"
  },
  "language_info": {
   "codemirror_mode": {
    "name": "ipython",
    "version": 3
   },
   "file_extension": ".py",
   "mimetype": "text/x-python",
   "name": "python",
   "nbconvert_exporter": "python",
   "pygments_lexer": "ipython3",
   "version": "3.7.3"
  }
 },
 "nbformat": 4,
 "nbformat_minor": 2
}
